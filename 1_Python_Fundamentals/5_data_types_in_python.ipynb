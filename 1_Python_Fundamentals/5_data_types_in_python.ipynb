{
 "cells": [
  {
   "cell_type": "markdown",
   "id": "93674eb2-4fcc-4fea-9cd7-6dca84ddd356",
   "metadata": {},
   "source": [
    "# Prepared by Siba Kumar Panda,VLSI Verification Engineer\n",
    "# Github Link :https://github.com/Sibakumarpanda"
   ]
  },
  {
   "cell_type": "markdown",
   "id": "eb79c2e4-d43d-4dfa-ac64-22e6089ba4cd",
   "metadata": {},
   "source": [
    "# Python Data Types"
   ]
  },
  {
   "cell_type": "code",
   "execution_count": 2,
   "id": "6e57dc18-5be7-4d6e-aae2-37a2c12bd8e5",
   "metadata": {},
   "outputs": [
    {
     "data": {
      "text/plain": [
       "'\\nNumeric - int, float, complex\\nSequence Type - string, list, tuple\\nMapping Type - dict\\nBoolean - bool\\nSet Type - set, frozenset\\nBinary Types - bytes, bytearray, memoryview\\n'"
      ]
     },
     "execution_count": 2,
     "metadata": {},
     "output_type": "execute_result"
    }
   ],
   "source": [
    "# Python Data types are the classification or categorization of data items. \n",
    "# It represents the kind of value that tells what operations can be performed on a particular data. \n",
    "# Since everything is an object in Python programming, Python data types are classes and variables are instances (objects) of these classes. \n",
    "# The following are the standard or built-in data types in Python:\n",
    "'''\n",
    "Numeric - int, float, complex\n",
    "Sequence Type - string, list, tuple\n",
    "Mapping Type - dict\n",
    "Boolean - bool\n",
    "Set Type - set, frozenset\n",
    "Binary Types - bytes, bytearray, memoryview\n",
    "'''"
   ]
  },
  {
   "cell_type": "markdown",
   "id": "dbc8c1c2-5f06-4f6b-908a-70824c2de411",
   "metadata": {},
   "source": [
    "# Getting Types of Data used "
   ]
  },
  {
   "cell_type": "code",
   "execution_count": 5,
   "id": "b63c4476-872c-42c2-9bf9-b68be5b9e568",
   "metadata": {},
   "outputs": [
    {
     "name": "stdout",
     "output_type": "stream",
     "text": [
      "<class 'int'>\n",
      "<class 'float'>\n",
      "<class 'str'>\n",
      "<class 'list'>\n",
      "<class 'tuple'>\n"
     ]
    }
   ],
   "source": [
    "#  int, float, string, list ,Tuple\n",
    "x = 50\n",
    "print(type(x))\n",
    "x = 60.5\n",
    "print(type(x))\n",
    "x = \"Hello World\" # String\n",
    "print(type(x))\n",
    "x = [\"Siba\", \"Kumar\", \"Panda\"] #list\n",
    "print(type(x))\n",
    "x = (\"Siba\", \"Kumar\", \"Panda\") #Tuple\n",
    "print(type(x))"
   ]
  },
  {
   "cell_type": "markdown",
   "id": "9908637f-7a30-43c6-b73b-b5b1c06ec19a",
   "metadata": {},
   "source": [
    "# 1. Numeric Data Types in Python (int, float, complex)"
   ]
  },
  {
   "cell_type": "code",
   "execution_count": 6,
   "id": "64bdf566-1e77-4c7e-90c0-36419a531fca",
   "metadata": {},
   "outputs": [
    {
     "name": "stdout",
     "output_type": "stream",
     "text": [
      "<class 'int'>\n",
      "<class 'float'>\n",
      "<class 'complex'>\n"
     ]
    }
   ],
   "source": [
    "# Example\n",
    "# Integers - This value is represented by int class. \n",
    "# It contains positive or negative whole numbers (without fractions or decimals). In Python, there is no limit to how long an integer value can be.\n",
    "a = 5\n",
    "print(type(a))\n",
    "\n",
    "# Float - This value is represented by the float class. \n",
    "# It is a real number with a floating-point representation. \n",
    "# It is specified by a decimal point. Optionally, the character e or E followed by a positive or negative integer \n",
    "# may be appended to specify scientific notation.\n",
    "b = 5.0\n",
    "print(type(b))\n",
    "\n",
    "# Complex Numbers - A complex number is represented by a complex class. \n",
    "# It is specified as (real part) + (imaginary part)j . For example - 2+3j\n",
    "c = 2 + 4j\n",
    "print(type(c))"
   ]
  },
  {
   "cell_type": "markdown",
   "id": "5881ce07-90aa-46cb-b5bb-c40d5df2fc0f",
   "metadata": {},
   "source": [
    "# 2. Sequence Data Types in Python (String ,List , Tuple)"
   ]
  },
  {
   "cell_type": "code",
   "execution_count": 12,
   "id": "2e67ef41-91e6-4684-a7db-a05e0a366020",
   "metadata": {},
   "outputs": [
    {
     "name": "stdout",
     "output_type": "stream",
     "text": [
      "Happy Python Learning\n",
      "<class 'str'>\n",
      "H\n",
      "a\n",
      "p\n",
      "p\n",
      "y\n",
      " \n",
      "P\n",
      "g\n"
     ]
    }
   ],
   "source": [
    "# a. String Data Type:\n",
    "# Python Strings are arrays of bytes representing Unicode characters. \n",
    "# In Python, there is no character data type Python, a character is a string of length one. \n",
    "# It is represented by str class.\n",
    "# Strings in Python can be created using single quotes, double quotes or even triple quotes.\n",
    "# We can access individual characters of a String using index.\n",
    "# Example:\n",
    "s = 'Happy Python Learning'\n",
    "print(s)\n",
    "# check data type \n",
    "print(type(s))\n",
    "# access string with index\n",
    "print(s[0])\n",
    "print(s[1])\n",
    "print(s[2])\n",
    "print(s[3])\n",
    "print(s[4])\n",
    "print(s[5])\n",
    "print(s[6])\n",
    "print(s[-1]) # It will be Last Character of the String that is (g) / last letter of Learning"
   ]
  },
  {
   "cell_type": "code",
   "execution_count": 13,
   "id": "dd7f4ec2-09b1-4a06-8e84-aecbec9c4301",
   "metadata": {},
   "outputs": [],
   "source": [
    "# b. List Data Type\n",
    "# Lists are just like arrays, declared in other languages which is an ordered collection of data. \n",
    "# It is very flexible as the items in a list do not need to be of the same type.\n",
    "# Creating a List in Python-Lists in Python can be created by just placing the sequence inside the square brackets[].\n"
   ]
  },
  {
   "cell_type": "code",
   "execution_count": 16,
   "id": "ab972aa4-4d55-47d2-a627-f651bd1b1aeb",
   "metadata": {},
   "outputs": [
    {
     "name": "stdout",
     "output_type": "stream",
     "text": [
      "[]\n",
      "[1, 2, 3]\n",
      "['Happy', 'Python', 'Coding', 4, 5]\n"
     ]
    }
   ],
   "source": [
    "# Example1\n",
    "# Empty list\n",
    "a = []\n",
    "print (a)\n",
    "# list with int values\n",
    "a = [1, 2, 3]\n",
    "print(a)\n",
    "# list with mixed int and string\n",
    "b = [\"Happy\", \"Python\", \"Coding\", 4, 5]\n",
    "print(b)"
   ]
  },
  {
   "cell_type": "code",
   "execution_count": 20,
   "id": "4882d4d1-59b9-496d-9fb6-cf16e6dfff10",
   "metadata": {},
   "outputs": [
    {
     "name": "stdout",
     "output_type": "stream",
     "text": [
      "Accessing element from the list--->\n",
      "Happy\n",
      "Coding\n",
      "Accessing element using negative indexing--->\n",
      "Happy\n",
      "Coding\n",
      "Python\n",
      "Happy\n"
     ]
    }
   ],
   "source": [
    "# Example2: Accessing List Items\n",
    "# In order to access the list items refer to the index number. \n",
    "# In Python, negative sequence indexes represent positions from the end of the array. \n",
    "# Instead of having to compute the offset as in List[len(List)-3], it is enough to just write List[-3]. \n",
    "# Negative indexing means beginning from the end, -1 refers to the last item, -2 refers to the second-last item, etc\n",
    "a = [\"Happy\", \"Python\", \"Coding\"]\n",
    "print(\"Accessing element from the list--->\")\n",
    "print(a[0])\n",
    "print(a[2])\n",
    "\n",
    "print(\"Accessing element using negative indexing--->\")\n",
    "print(a[-0]) # Will be same as a[0]\n",
    "print(a[-1])\n",
    "print(a[-2])\n",
    "print(a[-3])"
   ]
  },
  {
   "cell_type": "code",
   "execution_count": 21,
   "id": "d4c473af-43ce-401f-b81b-f0e48ed975c6",
   "metadata": {},
   "outputs": [],
   "source": [
    "# c. Tuple Data Type\n",
    "# Just like a list, a tuple is also an ordered collection of Python objects. \n",
    "# The only difference between a tuple and a list is that tuples are immutable. \n",
    "# Means ,Tuples cannot be modified after it is created.\n",
    "# Creating a Tuple in Python :\n",
    "# In Python Data Types, tuples are created by placing a sequence of values separated by a ‘comma’ with or without the \n",
    "# use of parentheses for grouping the data sequence. \n",
    "# Tuples can contain any number of elements and of any datatype (like strings, integers, lists, etc).\n",
    "# Note:  Tuples can also be created with a single element, but it is a bit tricky. \n",
    "# Having one element in the parentheses is not sufficient, there must be a trailing ‘comma’ to make it a tuple\n",
    "# Note: The creation of a Python tuple without the use of parentheses is known as Tuple Packing. \n"
   ]
  },
  {
   "cell_type": "code",
   "execution_count": 24,
   "id": "6e6a020e-b9f5-4073-8b18-21ab2d0f61f4",
   "metadata": {},
   "outputs": [
    {
     "name": "stdout",
     "output_type": "stream",
     "text": [
      "()\n",
      "\n",
      "Tuple with the use of String is :  ('Happy', 'Coding')\n"
     ]
    }
   ],
   "source": [
    "# Example1:\n",
    "# initiate empty tuple\n",
    "tup1 = ()\n",
    "print (tup1)\n",
    "tup2 = ('Happy', 'Coding')\n",
    "print(\"\\nTuple with the use of String is : \", tup2)"
   ]
  },
  {
   "cell_type": "code",
   "execution_count": 36,
   "id": "738c4fa4-aad2-4ca5-a922-03564cfe1149",
   "metadata": {},
   "outputs": [
    {
     "name": "stdout",
     "output_type": "stream",
     "text": [
      "('Happy', 'Python')\n"
     ]
    },
    {
     "ename": "TypeError",
     "evalue": "'tuple' object does not support item assignment",
     "output_type": "error",
     "traceback": [
      "\u001b[1;31m---------------------------------------------------------------------------\u001b[0m",
      "\u001b[1;31mTypeError\u001b[0m                                 Traceback (most recent call last)",
      "Cell \u001b[1;32mIn[36], line 7\u001b[0m\n\u001b[0;32m      5\u001b[0m tup1 \u001b[38;5;241m=\u001b[39m (\u001b[38;5;124m'\u001b[39m\u001b[38;5;124mHappy\u001b[39m\u001b[38;5;124m'\u001b[39m, \u001b[38;5;124m'\u001b[39m\u001b[38;5;124mPython\u001b[39m\u001b[38;5;124m'\u001b[39m)\n\u001b[0;32m      6\u001b[0m \u001b[38;5;28mprint\u001b[39m(tup1)\n\u001b[1;32m----> 7\u001b[0m tup1[\u001b[38;5;241m2\u001b[39m] \u001b[38;5;241m=\u001b[39m \u001b[38;5;124m'\u001b[39m\u001b[38;5;124mCoding\u001b[39m\u001b[38;5;124m'\u001b[39m \u001b[38;5;66;03m# We cannot add in tuple , It wll throw error\u001b[39;00m\n\u001b[0;32m      8\u001b[0m \u001b[38;5;28mprint\u001b[39m(tup1)\n\u001b[0;32m     10\u001b[0m tup2 \u001b[38;5;241m=\u001b[39m (\u001b[38;5;241m1\u001b[39m,\u001b[38;5;241m2\u001b[39m,\u001b[38;5;241m3\u001b[39m)\n",
      "\u001b[1;31mTypeError\u001b[0m: 'tuple' object does not support item assignment"
     ]
    }
   ],
   "source": [
    "# Example2: The key difference between tuples and lists is that tuples are immutable, while lists are mutable.\n",
    "# Means : Immutable means that once a tuple is created, it cannot be modified.You cannot add, remove, or change elements after creation.\n",
    "#         Mutable (like lists) means the object can be modified after creation. You can add, remove, or change elements freely.\n",
    "# Tuple Example\n",
    "tup1 = ('Happy', 'Python')\n",
    "print(tup1)\n",
    "tup1[2] = 'Coding' # We cannot add in tuple , It wll throw error\n",
    "print(tup1)\n",
    "\n",
    "tup2 = (1,2,3)\n",
    "print(tup2)\n",
    "tup2[0] = 4  # We cannot Modify in tuple , It wll throw error\n",
    "print (tup2)"
   ]
  },
  {
   "cell_type": "code",
   "execution_count": 40,
   "id": "8fc00c42-b038-4b0c-8732-5d24f16a0b0d",
   "metadata": {},
   "outputs": [
    {
     "name": "stdout",
     "output_type": "stream",
     "text": [
      "['Happy', 'Python']\n",
      "['Happy', 'Coding']\n",
      "[1, 2, 3]\n",
      "[4, 2, 3]\n"
     ]
    }
   ],
   "source": [
    " #Example3: List Example\n",
    "my_list1 = ['Happy', 'Python']\n",
    "print(my_list1)\n",
    "my_list1[1] = 'Coding' # We can Modify in list\n",
    "print(my_list1)\n",
    "\n",
    "my_list2 = [1,2,3]\n",
    "print(my_list2)\n",
    "my_list2[0] = 4  # We can Modify in list\n",
    "print (my_list2)"
   ]
  },
  {
   "cell_type": "code",
   "execution_count": 41,
   "id": "b18babc5-ca18-4c86-8362-d790ae841c2f",
   "metadata": {},
   "outputs": [
    {
     "name": "stdout",
     "output_type": "stream",
     "text": [
      "1\n",
      "5\n",
      "3\n"
     ]
    }
   ],
   "source": [
    "# Example4: Access Tuple Items\n",
    "# In order to access the tuple items refer to the index number. \n",
    "# Use the index operator [ ] to access an item in a tuple.\n",
    "tup1 = tuple([1, 2, 3, 4, 5])\n",
    "# access tuple items\n",
    "print(tup1[0])\n",
    "print(tup1[-1])\n",
    "print(tup1[-3])"
   ]
  },
  {
   "cell_type": "code",
   "execution_count": 46,
   "id": "11174759-257c-47bf-98c6-81e3065e3d87",
   "metadata": {},
   "outputs": [
    {
     "name": "stdout",
     "output_type": "stream",
     "text": [
      "('Siba', 500, [1, 2, 3])\n",
      "Siba\n",
      "500\n",
      "[1, 2, 3]\n",
      "[1, 2, 3]\n",
      "500\n",
      "Siba\n"
     ]
    }
   ],
   "source": [
    "# Example5: Tuples can contain any number of elements and of any datatype (like strings, integers, lists, etc).\n",
    "tup1 = (\"Siba\", 500 ,[1,2,3])\n",
    "print(tup1)\n",
    "print(tup1[0])\n",
    "print(tup1[1])\n",
    "print(tup1[2])\n",
    "print(tup1[-1])\n",
    "print(tup1[-2])\n",
    "print(tup1[-3])"
   ]
  },
  {
   "cell_type": "code",
   "execution_count": 54,
   "id": "408266d8-e5b1-46e8-96d2-c5347ff8e682",
   "metadata": {},
   "outputs": [
    {
     "name": "stdout",
     "output_type": "stream",
     "text": [
      "500\n",
      "<class 'int'>\n",
      "Siba\n",
      "<class 'str'>\n"
     ]
    }
   ],
   "source": [
    "# Example6: Tuples can also be created with a single element, but it is a bit tricky. \n",
    "tup1 = (500)\n",
    "tup2 = ('Siba')\n",
    "print(tup1)\n",
    "print (type(tup1)) # It is not considered as Tuple , its an integer \n",
    "print(tup2)\n",
    "print (type(tup2)) # It is not considered as Tuple , its a String    "
   ]
  },
  {
   "cell_type": "code",
   "execution_count": 51,
   "id": "ea70ca8e-c498-4243-8d9d-9efc7e0d4253",
   "metadata": {},
   "outputs": [
    {
     "name": "stdout",
     "output_type": "stream",
     "text": [
      "(500,)\n",
      "<class 'tuple'>\n",
      "('Siba',)\n",
      "<class 'tuple'>\n",
      "([1, 2, 3, 4],)\n",
      "<class 'tuple'>\n"
     ]
    }
   ],
   "source": [
    "# Example7: Having one element in the parentheses is not sufficient, there must be a trailing ‘comma’ to make it a tuple\n",
    "tup1 = (500,)\n",
    "tup2 = ('Siba',)\n",
    "tup3 = ([1,2,3,4],)\n",
    "print(tup1)\n",
    "print (type(tup1))\n",
    "print(tup2)\n",
    "print (type(tup2))\n",
    "print(tup3)\n",
    "print (type(tup3))"
   ]
  },
  {
   "cell_type": "code",
   "execution_count": 55,
   "id": "56348887-3110-4931-8372-b206e66cbbcc",
   "metadata": {},
   "outputs": [
    {
     "name": "stdout",
     "output_type": "stream",
     "text": [
      "(1, 2, 3, 'hello')\n",
      "<class 'tuple'>\n"
     ]
    }
   ],
   "source": [
    "# Example8: The creation of a Python tuple without the use of parentheses is known as Tuple Packing.\n",
    "# Packing means combining multiple values into a single tuple.\n",
    "# The commas , tell Python: \"Treat these values as a tuple\"\n",
    "my_tuple = 1, 2, 3, \"hello\"  # No parentheses used\n",
    "print(my_tuple)              # Output: (1, 2, 3, 'hello')\n",
    "print(type(my_tuple))        # Output: <class 'tuple'>"
   ]
  },
  {
   "cell_type": "code",
   "execution_count": 61,
   "id": "dc2414c4-5edf-4fa3-8daf-ff01b39577a2",
   "metadata": {},
   "outputs": [
    {
     "name": "stdout",
     "output_type": "stream",
     "text": [
      "100\n",
      "200\n",
      "300\n",
      "<class 'int'>\n",
      "<class 'int'>\n",
      "<class 'int'>\n",
      "(100,)\n",
      "(200,)\n",
      "(300,)\n",
      "<class 'tuple'>\n",
      "<class 'tuple'>\n",
      "<class 'tuple'>\n"
     ]
    }
   ],
   "source": [
    "#Example9: Tuple Unpacking (Reverse of Packing)\n",
    "# You can also extract values from a tuple into separate variables.This is called \"Tuple Unpacking\".\n",
    "# When you unpack a tuple, Python assigns each value to individual variables—so they take the data type of the unpacked elements, \n",
    "# not the tuple itself.\n",
    "x, y, z = (100, 200, 300)  # Unpacking a tuple\n",
    "print(x)  # Output: 100\n",
    "print(y)  # Output: 200\n",
    "print(z)  # Output: 300\n",
    "print(type(x))\n",
    "print(type(y))\n",
    "print(type(z))\n",
    "\n",
    "# Example10:\n",
    "p, q, r = (100,), (200,), (300,)  # Each is a single-element tuple\n",
    "print(p)\n",
    "print(q)\n",
    "print(r)\n",
    "print(type(p))  # <class 'tuple'>\n",
    "print(type(q))\n",
    "print(type(r))"
   ]
  },
  {
   "cell_type": "markdown",
   "id": "6ce56d5c-a09d-4c7c-981e-49939c787b98",
   "metadata": {},
   "source": [
    "# 3. Boolean Data Type in Python"
   ]
  },
  {
   "cell_type": "code",
   "execution_count": 62,
   "id": "4a5809af-3fb9-4b7f-aab4-9785d988062e",
   "metadata": {},
   "outputs": [],
   "source": [
    "# Python Data type with one of the two built-in values, True or False. \n",
    "# Boolean objects that are equal to True are truthy (true), and those equal to False are falsy (false). \n",
    "# However non-Boolean objects can be evaluated in a Boolean context as well and determined to be true or false. \n",
    "# It is denoted by the class bool.\n"
   ]
  },
  {
   "cell_type": "code",
   "execution_count": 63,
   "id": "fb21b6eb-0983-40b7-8bed-af6da26bde7a",
   "metadata": {},
   "outputs": [
    {
     "name": "stdout",
     "output_type": "stream",
     "text": [
      "<class 'bool'>\n",
      "<class 'bool'>\n"
     ]
    }
   ],
   "source": [
    "# Example1:\n",
    "# The first two lines will print the type of the boolean values True and False, which is <class 'bool'>. \n",
    "# The third line will cause an error, because true is not a valid keyword in Python. \n",
    "# Python is case-sensitive, which means it distinguishes between uppercase and lowercase letters.\n",
    "print(type(True))\n",
    "print(type(False))\n"
   ]
  },
  {
   "cell_type": "code",
   "execution_count": 64,
   "id": "df89d03c-5b26-4232-8a81-3cd9c366fb00",
   "metadata": {},
   "outputs": [
    {
     "ename": "NameError",
     "evalue": "name 'true' is not defined",
     "output_type": "error",
     "traceback": [
      "\u001b[1;31m---------------------------------------------------------------------------\u001b[0m",
      "\u001b[1;31mNameError\u001b[0m                                 Traceback (most recent call last)",
      "Cell \u001b[1;32mIn[64], line 2\u001b[0m\n\u001b[0;32m      1\u001b[0m \u001b[38;5;66;03m# Example2:\u001b[39;00m\n\u001b[1;32m----> 2\u001b[0m \u001b[38;5;28mprint\u001b[39m(\u001b[38;5;28mtype\u001b[39m(true))\n",
      "\u001b[1;31mNameError\u001b[0m: name 'true' is not defined"
     ]
    }
   ],
   "source": [
    "# Example2:\n",
    "print(type(true)) # true is not a valid keyword , True is valid "
   ]
  },
  {
   "cell_type": "markdown",
   "id": "9da24234-4ca3-4e68-8293-3a528004347e",
   "metadata": {},
   "source": [
    "# 4. Set Data Type in Python (set, frozenset)"
   ]
  },
  {
   "cell_type": "code",
   "execution_count": 1,
   "id": "8c6fe58f-2ff4-4ebb-a906-1de0c3223740",
   "metadata": {},
   "outputs": [],
   "source": [
    "# In Python Data Types, Set is an unordered collection of data types that is iterable, mutable, and has no duplicate elements. \n",
    "# The order of elements in a set is undefined though it may consist of various elements.\n",
    "# Create a Set in Python\n",
    "# Sets can be created by using the built-in set() function with an iterable object or a sequence by placing the sequence inside curly braces, \n",
    "# separated by a ‘comma’. The type of elements in a set need not be the same, various mixed-up data type values can also be passed to the set.\n",
    "\n"
   ]
  },
  {
   "cell_type": "code",
   "execution_count": 4,
   "id": "e712d2a4-c509-4c5c-a232-4810da119551",
   "metadata": {},
   "outputs": [
    {
     "name": "stdout",
     "output_type": "stream",
     "text": [
      "set()\n",
      "Set with the use of String:  {'b', 'K', 'n', 'P', 'm', 'a', 'i', 'u', 'S', 'd', 'r'}\n",
      "Set with the use of List:  {'Kumar', 'Siba', 'Panda'}\n"
     ]
    }
   ],
   "source": [
    "#Example1: How to create sets using different types of values, such as strings , lists , and mixed values\n",
    "# initializing empty set\n",
    "s1 = set()\n",
    "print(s1)\n",
    "\n",
    "s1 = set(\"SibaKumarPanda\")                     # Creating a set from a string\n",
    "print(\"Set with the use of String: \", s1)\n",
    "\n",
    "s2 = set([\"Siba\", \"Kumar\", \"Kumar\" ,\"Panda\"])  # Creating a set from a list\n",
    "print(\"Set with the use of List: \", s2)"
   ]
  },
  {
   "cell_type": "code",
   "execution_count": 7,
   "id": "e0e8e751-d10d-4374-893e-7208a239a6a5",
   "metadata": {},
   "outputs": [
    {
     "name": "stdout",
     "output_type": "stream",
     "text": [
      "{'Kumar', 'Siba', 'Panda'}\n",
      "Kumar Siba Panda True\n"
     ]
    }
   ],
   "source": [
    "# Example2: Accessing Set Items\n",
    "# Set items cannot be accessed by referring to an index, since sets are unordered the items have no index. \n",
    "# But we can loop through the set items using a for loop, or ask if a specified value is present in a set, by using the in the keyword.\n",
    "\n",
    "s1 = set([\"Siba\", \"Kumar\", \"Kumar\" , \"Panda\"])\n",
    "print(s1)\n",
    "\n",
    "# loop through set\n",
    "for i in s1:\n",
    "    print(i, end=\" \") \n",
    "    \n",
    "# check if item exist in set    \n",
    "print(\"Siba\" in s1)"
   ]
  },
  {
   "cell_type": "markdown",
   "id": "d8523a24-3eec-45a3-b6be-213ec8668a5e",
   "metadata": {},
   "source": [
    "# 5. Dictionary Data Type"
   ]
  },
  {
   "cell_type": "code",
   "execution_count": 8,
   "id": "135d884f-6151-483c-9326-fa5b9ae0a2e0",
   "metadata": {},
   "outputs": [],
   "source": [
    "# A dictionary in Python is a collection of data values, used to store data values like a map, unlike other Python Data Types \n",
    "# that hold only a single value as an element, a Dictionary holds a key: value pair. \n",
    "# Key-value is provided in the dictionary to make it more optimized. \n",
    "# Each key-value pair in a Dictionary is separated by a colon : , whereas each key is separated by a ‘comma’.\n",
    "\n"
   ]
  },
  {
   "cell_type": "code",
   "execution_count": 10,
   "id": "3359ab40-0f81-420d-b101-91e61814bd04",
   "metadata": {},
   "outputs": [
    {
     "name": "stdout",
     "output_type": "stream",
     "text": [
      "{}\n",
      "{1: 'Siba', 2: 'Kumar', 3: 'Panda'}\n",
      "{1: 'Siba', 2: 'Kumar', 3: 'Panda'}\n"
     ]
    }
   ],
   "source": [
    "# Creating a Dictionary in Python\n",
    "# Values in a dictionary can be of any datatype and can be duplicated, whereas keys can’t be repeated and must be immutable. \n",
    "# The dictionary can also be created by the built-in function dict().\n",
    "# Example1:\n",
    "# initialize empty dictionary\n",
    "d1 = {}\n",
    "print(d1)\n",
    "\n",
    "d2 = {1: 'Siba', 2: 'Kumar', 3: 'Panda'}\n",
    "print(d2)\n",
    "\n",
    "# creating dictionary using dict() constructor\n",
    "d3 = dict({1: 'Siba', 2: 'Kumar', 3: 'Panda'})\n",
    "print(d3)"
   ]
  },
  {
   "cell_type": "code",
   "execution_count": 16,
   "id": "136c8c91-8bc8-433a-9313-9b3356421a4e",
   "metadata": {},
   "outputs": [
    {
     "name": "stdout",
     "output_type": "stream",
     "text": [
      "Siba\n",
      "Pinku\n",
      "Siku\n",
      "**********\n",
      "Pinku\n"
     ]
    }
   ],
   "source": [
    "# Example2: Accessing Key-value in Dictionary\n",
    "# In order to access the items of a dictionary refer to its key name. \n",
    "# Key can be used inside square brackets. \n",
    "# Using get() method we can access the dictionary elements.\n",
    "\n",
    "d1 = {1: 'Siba', 'Name': 'Siku', 3: 'Pinku'}\n",
    "# Accessing an element using key\n",
    "print(d1[1])\n",
    "print(d1[3])\n",
    "print(d1['Name'])\n",
    "print(\"**********\")\n",
    "# Accessing a element using get\n",
    "print(d1.get(3))"
   ]
  },
  {
   "cell_type": "code",
   "execution_count": 19,
   "id": "c0d9d2a1-081c-43ed-b7de-2046156b6203",
   "metadata": {},
   "outputs": [
    {
     "name": "stdout",
     "output_type": "stream",
     "text": [
      "['apple', 'banana', 'orange']\n",
      "<class 'list'>\n",
      "['apple', 'banana', 'orange', 'grape']\n",
      "['apple', 'banana', 'grape']\n",
      "<class 'list'>\n"
     ]
    }
   ],
   "source": [
    "# Example: Basic list operations\n",
    "fruits = [\"apple\", \"banana\", \"orange\"]\n",
    "print(fruits)\n",
    "print(type(fruits))\n",
    "fruits.append(\"grape\")\n",
    "print(fruits)\n",
    "fruits.remove(\"orange\")\n",
    "print(fruits)\n",
    "print(type(fruits))"
   ]
  },
  {
   "cell_type": "code",
   "execution_count": 20,
   "id": "59d0363f-242b-4556-b978-16b32da88b34",
   "metadata": {},
   "outputs": [
    {
     "name": "stdout",
     "output_type": "stream",
     "text": [
      "(3, 5)\n",
      "<class 'tuple'>\n",
      "X-coordinate: 3\n",
      "Y-coordinate: 5\n"
     ]
    }
   ],
   "source": [
    "# Example: Basic tuple operation\n",
    "coordinates = (3, 5)\n",
    "print(coordinates)\n",
    "print(type(coordinates))\n",
    "print(\"X-coordinate:\", coordinates[0])\n",
    "print(\"Y-coordinate:\", coordinates[1])"
   ]
  },
  {
   "cell_type": "code",
   "execution_count": null,
   "id": "750f1d5f-7b02-4687-9683-b7e225f24ec5",
   "metadata": {},
   "outputs": [],
   "source": []
  }
 ],
 "metadata": {
  "kernelspec": {
   "display_name": "Python 3",
   "language": "python",
   "name": "python3"
  },
  "language_info": {
   "codemirror_mode": {
    "name": "ipython",
    "version": 3
   },
   "file_extension": ".py",
   "mimetype": "text/x-python",
   "name": "python",
   "nbconvert_exporter": "python",
   "pygments_lexer": "ipython3",
   "version": "3.13.5"
  }
 },
 "nbformat": 4,
 "nbformat_minor": 5
}
