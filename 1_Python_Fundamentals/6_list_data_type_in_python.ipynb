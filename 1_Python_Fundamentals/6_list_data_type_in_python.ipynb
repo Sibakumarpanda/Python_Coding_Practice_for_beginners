{
 "cells": [
  {
   "cell_type": "markdown",
   "id": "06c0bd52-2c14-45ce-a5b8-bea9b6058b1e",
   "metadata": {},
   "source": [
    "# Prepared by Siba Kumar Panda,VLSI Verification Engineer\n",
    "# Github Link :https://github.com/Sibakumarpanda¶\n"
   ]
  },
  {
   "cell_type": "markdown",
   "id": "ebd0a227-fb2b-4e47-84fc-293308f2a875",
   "metadata": {},
   "source": [
    "# Python List"
   ]
  },
  {
   "cell_type": "code",
   "execution_count": 2,
   "id": "22f99f26-3ca4-4622-878d-d76de5b4213d",
   "metadata": {},
   "outputs": [],
   "source": [
    "# In Python, a list is a built-in dynamic sized array (automatically grows and shrinks).\n",
    "# We can store all types of items (including another list) in a list.\n",
    "# Can contain duplicate items.\n",
    "# Mutable : We can modify, replace or delete the items.\n",
    "# Ordered : Maintains the order of elements based on how they are added.\n",
    "# Items can be accessed directly using their position (index), starting from 0.\n",
    "# May contain mixed type of items, this is possible because a list mainly stores references at contiguous locations and actual \n",
    "# items maybe stored at different locations"
   ]
  },
  {
   "cell_type": "code",
   "execution_count": 4,
   "id": "91a6d295-1a5e-462d-8b19-eb1528286ede",
   "metadata": {},
   "outputs": [
    {
     "name": "stdout",
     "output_type": "stream",
     "text": [
      "[10, 20, 'SKP', 40, True]\n",
      "<class 'list'>\n",
      "10\n",
      "20\n",
      "SKP\n",
      "40\n",
      "True\n",
      "<class 'str'>\n",
      "<class 'bool'>\n",
      "<class 'int'>\n"
     ]
    }
   ],
   "source": [
    "# Example1 : Creating a Python list with different data types\n",
    "a = [10, 20, \"SKP\", 40, True]\n",
    "print(a)\n",
    "print(type(a))\n",
    "\n",
    "# Accessing elements using indexing\n",
    "print(a[0])  # 10\n",
    "print(a[1])  # 20\n",
    "print(a[2])  # \"SKP\"\n",
    "print(a[3])  # 40\n",
    "print(a[4])  # True\n",
    "\n",
    "# Checking types of elements\n",
    "print(type(a[2]))  # str\n",
    "print(type(a[4]))  # bool\n",
    "print(type(a[3]))  # int"
   ]
  },
  {
   "cell_type": "code",
   "execution_count": 5,
   "id": "8faee98b-f206-48aa-a5e4-4dfd01e7e0cf",
   "metadata": {},
   "outputs": [
    {
     "name": "stdout",
     "output_type": "stream",
     "text": [
      "[1, 2, 3, 4, 5]\n",
      "<class 'list'>\n",
      "['apple', 'banana', 'cherry']\n",
      "<class 'list'>\n",
      "[1, 'hello', 3.14, True]\n",
      "<class 'list'>\n"
     ]
    }
   ],
   "source": [
    "# Example2: Creating a List Using Square Brackets\n",
    "# List of integers\n",
    "a = [1, 2, 3, 4, 5]\n",
    "# List of strings\n",
    "b = ['apple', 'banana', 'cherry']\n",
    "# Mixed data types\n",
    "c = [1, 'hello', 3.14, True]\n",
    "\n",
    "print(a)\n",
    "print(type(a))\n",
    "\n",
    "print(b)\n",
    "print(type(b))\n",
    "\n",
    "print(c)\n",
    "print(type(c))"
   ]
  },
  {
   "cell_type": "code",
   "execution_count": 11,
   "id": "8b2268ea-2dbd-4e26-ac8b-749c282c5071",
   "metadata": {},
   "outputs": [
    {
     "name": "stdout",
     "output_type": "stream",
     "text": [
      "[1, 2, 3, 'Siba', 4.5]\n",
      "<class 'list'>\n",
      "<class 'str'>\n",
      "<class 'float'>\n"
     ]
    }
   ],
   "source": [
    "# Example3: Creating a List Using list() Constructor\n",
    "# We can also create a list by passing an iterable (like a string, tuple or another list) to list() function.\n",
    "# From a tuple\n",
    "a = list((1, 2, 3, 'Siba', 4.5))  \n",
    "print(a)\n",
    "print(type(a))\n",
    "print(type(a[3]))\n",
    "print(type(a[4]))"
   ]
  },
  {
   "cell_type": "code",
   "execution_count": 16,
   "id": "67be065b-2c1a-4e7f-8e10-79ce95da8677",
   "metadata": {},
   "outputs": [
    {
     "name": "stdout",
     "output_type": "stream",
     "text": [
      "[2, 2, 2, 2, 2]\n",
      "<class 'list'>\n",
      "[0, 0, 0, 0, 0, 0, 0]\n",
      "<class 'list'>\n",
      "['Siba', 'Siba', 'Siba', 'Siba', 'Siba', 'Siba', 'Siba']\n",
      "<class 'list'>\n",
      "[5.6, 5.6, 5.6, 5.6, 5.6, 5.6, 5.6]\n",
      "<class 'list'>\n"
     ]
    }
   ],
   "source": [
    "# Example4: Creating List with Repeated Elements\n",
    "# We can create a list with repeated elements using the multiplication operator.\n",
    "# Create a list [2, 2, 2, 2, 2]\n",
    "a = [2] * 5\n",
    "# Create a list [0, 0, 0, 0, 0, 0, 0]\n",
    "b = [0] * 7\n",
    "c = ['Siba'] * 7\n",
    "d = [5.6] * 7\n",
    "\n",
    "print(a)\n",
    "print(type(a))\n",
    "print(b)\n",
    "print(type(b))\n",
    "print(c)\n",
    "print(type(c))\n",
    "print(d)\n",
    "print(type(d))"
   ]
  },
  {
   "cell_type": "code",
   "execution_count": 22,
   "id": "f949f434-f02c-417b-89c3-989921c52c25",
   "metadata": {},
   "outputs": [
    {
     "name": "stdout",
     "output_type": "stream",
     "text": [
      "10\n",
      "50\n",
      "50\n",
      "10\n",
      "<class 'int'>\n"
     ]
    }
   ],
   "source": [
    "# Example5: Accessing List Elements\n",
    "# Elements in a list can be accessed using indexing. \n",
    "# Python indexes start at 0, so a[0] will access the first element, while negative indexing allows us to access \n",
    "# elements from the end of the list. Like index -1 represents the last elements of list.\n",
    "\n",
    "a = [10, 20, 30, 40, 50]\n",
    "\n",
    "\n",
    "print(a[0])    # Access first element\n",
    "print(a[4])   \n",
    "\n",
    "print(a[-1])   # Access last element\n",
    "print(a[-5])\n",
    "print(type(a[-5]))"
   ]
  },
  {
   "cell_type": "code",
   "execution_count": 28,
   "id": "3d7a098a-9441-4ee4-b402-1abe4781a91e",
   "metadata": {},
   "outputs": [
    {
     "name": "stdout",
     "output_type": "stream",
     "text": [
      "At initial the content is: []\n",
      "<class 'list'>\n",
      "After appending 10 : [10]\n",
      "After inserting 5 at 0th Position: [5, 10]\n",
      "After extending([15, 20, 25]): [5, 10, 15, 20, 25]\n"
     ]
    }
   ],
   "source": [
    "#Example6: Adding Elements into List\n",
    "# We can add elements to a list using the following methods:\n",
    "# append(): Adds an element at the end of the list.\n",
    "# extend(): Adds multiple elements to the end of the list.\n",
    "# insert(): Adds an element at a specific position.\n",
    "\n",
    "# Initialize an empty list\n",
    "list1 = []\n",
    "print(\"At initial the content is:\", list1)\n",
    "print (type(list1))\n",
    "\n",
    "# Adding 10 to end of list\n",
    "list1.append(10)  \n",
    "print(\"After appending 10 :\", list1)  \n",
    "\n",
    "# Inserting 5 at index 0\n",
    "list1.insert(0, 5)\n",
    "print(\"After inserting 5 at 0th Position:\", list1) \n",
    "\n",
    "# Adding multiple elements  [15, 20, 25] at the end\n",
    "list1.extend([15, 20, 25])  \n",
    "print(\"After extending([15, 20, 25]):\", list1)"
   ]
  },
  {
   "cell_type": "code",
   "execution_count": 31,
   "id": "8e799e4c-eb10-45c7-b002-161a8204ef6c",
   "metadata": {},
   "outputs": [
    {
     "name": "stdout",
     "output_type": "stream",
     "text": [
      "[10, 20, 30, 40, 50]\n",
      "<class 'list'>\n",
      "[10, 25, 30, 40, 50]\n"
     ]
    }
   ],
   "source": [
    "# Example7: Updating Elements into List - We can change the value of an element by accessing it using its index.\n",
    "list2 = [10, 20, 30, 40, 50]\n",
    "print(list2)\n",
    "print (type(list2))\n",
    "# Change the second element\n",
    "list2[1] = 25 \n",
    "print(list2)"
   ]
  },
  {
   "cell_type": "code",
   "execution_count": 33,
   "id": "0a6e4cea-8298-442d-9455-e806c3ba7a0f",
   "metadata": {},
   "outputs": [
    {
     "name": "stdout",
     "output_type": "stream",
     "text": [
      "After remove(30): [10, 20, 40, 50]\n",
      "Popped element: 20\n",
      "After pop(1): [10, 40, 50]\n",
      "After del list3[0]: [40, 50]\n"
     ]
    }
   ],
   "source": [
    "# Example8: Removing Elements from List -We can remove elements from a list using.\n",
    "# remove(): Removes the first occurrence of an element.\n",
    "# pop(): Removes the element at a specific index or the last element if no index is specified.\n",
    "# del statement: Deletes an element at a specified index.\n",
    "\n",
    "list3 = [10, 20, 30, 40, 50]\n",
    "\n",
    "# Removes the first occurrence of 30\n",
    "list3.remove(30)  \n",
    "print(\"After remove(30):\", list3)\n",
    "\n",
    "# Removes the element at index 1 (20)\n",
    "popped_val = list3.pop(1)  \n",
    "print(\"Popped element:\", popped_val)\n",
    "print(\"After pop(1):\", list3) \n",
    "\n",
    "# Deletes the first element (10)\n",
    "del list3[0]  \n",
    "print(\"After del list3[0]:\", list3)"
   ]
  },
  {
   "cell_type": "code",
   "execution_count": 35,
   "id": "f35db6b1-e389-4706-99be-4113aab16808",
   "metadata": {},
   "outputs": [
    {
     "name": "stdout",
     "output_type": "stream",
     "text": [
      "apple\n",
      "banana\n",
      "cherry\n"
     ]
    }
   ],
   "source": [
    "# Example9: Iterating Over Lists\n",
    "# We can iterate the Lists easily by using a for loop or other iteration methods. \n",
    "# Iterating over lists is useful when we want to do some operation on each item or access specific items based on certain conditions. \n",
    "# Let's take an example to iterate over the list using for loop.\n",
    "# Using for Loop\n",
    "list4 = ['apple', 'banana', 'cherry']\n",
    "# Iterating over the list\n",
    "for item in list4:\n",
    "    print(item)"
   ]
  },
  {
   "cell_type": "code",
   "execution_count": 39,
   "id": "3ba85ef8-4325-483c-8b79-bc0d721ceb83",
   "metadata": {},
   "outputs": [
    {
     "name": "stdout",
     "output_type": "stream",
     "text": [
      "6\n",
      "1\n",
      "3\n"
     ]
    }
   ],
   "source": [
    "# Example10: Nested Lists in Python\n",
    "# A nested list is a list within another list, which is useful for representing matrices or tables.\n",
    "# We can access nested elements by chaining indexes.\n",
    "matrix = [\n",
    "    [1, 2, 3],\n",
    "    [4, 5, 6],\n",
    "    [7, 8, 9]\n",
    "]\n",
    "print(matrix[1][2]) # Access element at row 2, column 3\n",
    "print(matrix[0][0])\n",
    "print(matrix[0][2])"
   ]
  },
  {
   "cell_type": "code",
   "execution_count": 42,
   "id": "cd0fdaf5-9a07-4abb-af19-fa62336ada62",
   "metadata": {},
   "outputs": [
    {
     "name": "stdout",
     "output_type": "stream",
     "text": [
      "[1, 4, 9, 16, 25]\n"
     ]
    }
   ],
   "source": [
    "# List Comprehension in Python:\n",
    "# List comprehension is a concise way to create lists using a single line of code. \n",
    "# It is useful for applying an operation or filter to items in an iterable, such as a list or range.\n",
    "# Create a list of squares from 1 to 5\n",
    "square_value = [a**2 for a in range(1, 6)]\n",
    "print(square_value)\n"
   ]
  },
  {
   "cell_type": "code",
   "execution_count": null,
   "id": "edbf43f4-dc5b-4c08-81bd-fc8c8f18e2f4",
   "metadata": {},
   "outputs": [],
   "source": []
  }
 ],
 "metadata": {
  "kernelspec": {
   "display_name": "Python 3",
   "language": "python",
   "name": "python3"
  },
  "language_info": {
   "codemirror_mode": {
    "name": "ipython",
    "version": 3
   },
   "file_extension": ".py",
   "mimetype": "text/x-python",
   "name": "python",
   "nbconvert_exporter": "python",
   "pygments_lexer": "ipython3",
   "version": "3.13.5"
  }
 },
 "nbformat": 4,
 "nbformat_minor": 5
}
