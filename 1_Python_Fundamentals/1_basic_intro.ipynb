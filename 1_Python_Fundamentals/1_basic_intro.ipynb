{
 "cells": [
  {
   "cell_type": "markdown",
   "id": "602c7ee3-f10f-442b-8e4f-89b0f77246a9",
   "metadata": {},
   "source": [
    "#                                      Prepared by Siba Kumar Panda , VLSI Verification Engineer\n",
    "#                                         Github Link :https://github.com/Sibakumarpanda"
   ]
  },
  {
   "cell_type": "markdown",
   "id": "977e98ed-8e07-4e56-a392-0048e397a0ec",
   "metadata": {},
   "source": [
    "# Python Introdution"
   ]
  },
  {
   "cell_type": "code",
   "execution_count": 1,
   "id": "5900ef76-b31d-402e-a0ec-e2b35da4b943",
   "metadata": {},
   "outputs": [
    {
     "name": "stdout",
     "output_type": "stream",
     "text": [
      "Hello, World!\n"
     ]
    }
   ],
   "source": [
    "# This is a comment. It will not be executed.\n",
    "# print() is a built-in Python function that tells the computer to show something on the screen.\n",
    "# The message \"Hello, World!\" is a string, which means it's just text. \n",
    "# In Python, strings are always written inside quotes (either single ' or double \").\n",
    "# Anything after # in a line is a comment. Python ignores comments when running the code, but they help people understand what the code is doing.\n",
    "# Commments are helpful for explaining code, making notes or skipping lines while testing.\n",
    "\n",
    "print(\"Hello, World!\")"
   ]
  },
  {
   "cell_type": "markdown",
   "id": "2f6e51df-44f5-48dd-b1ef-10e1b8b86311",
   "metadata": {},
   "source": [
    "# To Check available Kernels"
   ]
  },
  {
   "cell_type": "code",
   "execution_count": 1,
   "id": "29a94e57-7d7c-431d-9e8a-263251a0a11b",
   "metadata": {},
   "outputs": [
    {
     "name": "stdout",
     "output_type": "stream",
     "text": [
      "Available kernels:\n",
      "- python3\n"
     ]
    }
   ],
   "source": [
    "import jupyter_client\n",
    "print(\"Available kernels:\")\n",
    "for kernel in jupyter_client.kernelspec.find_kernel_specs().keys():\n",
    "    print(f\"- {kernel}\")"
   ]
  },
  {
   "cell_type": "code",
   "execution_count": 4,
   "id": "cde20d42-6f6c-4bcd-a6e0-3e6e2d9c261e",
   "metadata": {},
   "outputs": [
    {
     "data": {
      "text/plain": [
       "'\\nThis is a multi-line comment.\\nIt can be used to describe larger sections of code.\\n'"
      ]
     },
     "execution_count": 4,
     "metadata": {},
     "output_type": "execute_result"
    }
   ],
   "source": [
    "\"\"\"\n",
    "This is a multi-line comment.\n",
    "It can be used to describe larger sections of code.\n",
    "\"\"\""
   ]
  },
  {
   "cell_type": "markdown",
   "id": "7950aaf7-285f-4d5d-82ea-e6ed001c4de6",
   "metadata": {},
   "source": [
    "# Python Indentation"
   ]
  },
  {
   "cell_type": "code",
   "execution_count": 6,
   "id": "25805819-e4e4-43d0-a8a2-00b581a4b263",
   "metadata": {},
   "outputs": [
    {
     "ename": "IndentationError",
     "evalue": "unexpected indent (2918868357.py, line 11)",
     "output_type": "error",
     "traceback": [
      "\u001b[1;36m  Cell \u001b[1;32mIn[6], line 11\u001b[1;36m\u001b[0m\n\u001b[1;33m    print(\"I have tab indentaion\")\u001b[0m\n\u001b[1;37m    ^\u001b[0m\n\u001b[1;31mIndentationError\u001b[0m\u001b[1;31m:\u001b[0m unexpected indent\n"
     ]
    }
   ],
   "source": [
    "# In Python, Indentation is used to define blocks of code. It tells the Python interpreter that a group of statements belongs to a specific block.\n",
    "# All statements with the same level of indentation are considered part of the same block. \n",
    "# Indentation is achieved using whitespace (spaces or tabs) at the beginning of each line.\n",
    "# The most common convention is to use 4 spaces or a tab, per level of indentation.\n",
    "# here first print statement has no indentation, so it is correctly executed.\n",
    "# second print statement has tab indentation, but it doesn't belong to a new block of code. \n",
    "# Python expects the indentation level to be consistent within the same block. \n",
    "# This inconsistency causes an IndentationError.\n",
    "print(\"I have no indentation\")\n",
    "\n",
    "    print(\"I have tab indentaion\")"
   ]
  },
  {
   "cell_type": "markdown",
   "id": "3fd1d5c4-9e60-4e08-abdc-dc5667254988",
   "metadata": {},
   "source": [
    "# Taking input in python"
   ]
  },
  {
   "cell_type": "code",
   "execution_count": 7,
   "id": "40f4a6d2-5a0c-43aa-a0d2-2fe7bade0f8b",
   "metadata": {},
   "outputs": [
    {
     "name": "stdin",
     "output_type": "stream",
     "text": [
      "Enter your name:  Siba Kumar Panda\n"
     ]
    },
    {
     "name": "stdout",
     "output_type": "stream",
     "text": [
      "Hello, Siba Kumar Panda ! Welcome!\n"
     ]
    }
   ],
   "source": [
    "# Python's input() function is used to take user input. By default, it returns the user input in form of a string. \n",
    "name = input(\"Enter your name: \")\n",
    "print(\"Hello,\", name, \"! Welcome!\")"
   ]
  },
  {
   "cell_type": "markdown",
   "id": "68486d80-9afc-4016-b1bd-fef7742e697f",
   "metadata": {},
   "source": [
    "# Printing output using python"
   ]
  },
  {
   "cell_type": "code",
   "execution_count": 9,
   "id": "de2f3e1a-71cd-41a3-9fff-35be77d01fcd",
   "metadata": {},
   "outputs": [
    {
     "name": "stdout",
     "output_type": "stream",
     "text": [
      "Hello, World!\n"
     ]
    }
   ],
   "source": [
    "\n",
    "# printing output in Python is straightforward, thanks to the print() function.\n",
    "# This function allows us to display text, variables and expressions on the console. \n",
    "# Let's begin with the basic usage of the print() function:\n",
    "# In this example, \"Hello, World!\" is a string literal enclosed within double quotes. \n",
    "# When executed, this statement will output the text to the console.\n",
    "print(\"Hello, World!\")"
   ]
  },
  {
   "cell_type": "markdown",
   "id": "61da62e8-87de-46e0-b0f6-aa51abe43be8",
   "metadata": {},
   "source": [
    "# Printing variables using print() function"
   ]
  },
  {
   "cell_type": "code",
   "execution_count": 10,
   "id": "2e2ac347-0990-4376-bb95-c27ba4b84415",
   "metadata": {},
   "outputs": [
    {
     "name": "stdout",
     "output_type": "stream",
     "text": [
      "Siba\n",
      "Siba 35 Bangalore\n"
     ]
    }
   ],
   "source": [
    "# We can use the print() function to print single and multiple variables. \n",
    "# We can print multiple variables by separating them with commas. \n",
    "# Single variable\n",
    "s = \"Siba\"\n",
    "print(s)\n",
    "\n",
    "# Multiple Variables\n",
    "s = \"Siba\"\n",
    "age = 35\n",
    "city = \"Bangalore\"\n",
    "print(s, age, city)"
   ]
  },
  {
   "cell_type": "markdown",
   "id": "f75d06d7-3894-4a76-bca3-dc43a43b76e7",
   "metadata": {},
   "source": [
    "# Taking Multiple inputs in Python using split() method"
   ]
  },
  {
   "cell_type": "code",
   "execution_count": 12,
   "id": "448dee16-614e-4aa9-b2c9-6b50c3934aca",
   "metadata": {
    "scrolled": true
   },
   "outputs": [
    {
     "name": "stdin",
     "output_type": "stream",
     "text": [
      "Enter two values:  10 20\n"
     ]
    },
    {
     "name": "stdout",
     "output_type": "stream",
     "text": [
      "Number of boys:  10\n",
      "Number of girls:  20\n"
     ]
    },
    {
     "name": "stdin",
     "output_type": "stream",
     "text": [
      "Enter three values:  50 60 70\n"
     ]
    },
    {
     "name": "stdout",
     "output_type": "stream",
     "text": [
      "Total number of students:  50\n",
      "Number of boys is :  60\n",
      "Number of girls is :  70\n"
     ]
    }
   ],
   "source": [
    "# We are taking multiple input from the user in a single line, splitting the values entered by the user \n",
    "# into separate variables for each value using the split() method. \n",
    "# Then, it prints the values with corresponding labels, either two or three, based on the number of inputs provided by the user.\n",
    "# taking two inputs at a time\n",
    "\n",
    "x, y = input(\"Enter two values: \").split()\n",
    "print(\"Number of boys: \", x)\n",
    "print(\"Number of girls: \", y)\n",
    " \n",
    "# taking three inputs at a time\n",
    "x, y, z = input(\"Enter three values: \").split()\n",
    "print(\"Total number of students: \", x)\n",
    "print(\"Number of boys is : \", y)\n",
    "print(\"Number of girls is : \", z)"
   ]
  },
  {
   "cell_type": "markdown",
   "id": "95ea1f48-558c-4d17-b93a-7c5c522f14bf",
   "metadata": {},
   "source": [
    "\n",
    "# Printing Numbers in Python"
   ]
  },
  {
   "cell_type": "code",
   "execution_count": 3,
   "id": "15b28031-f786-45c4-aaeb-b820387ead0f",
   "metadata": {},
   "outputs": [
    {
     "name": "stdin",
     "output_type": "stream",
     "text": [
      "How many people?:  2000\n"
     ]
    },
    {
     "name": "stdout",
     "output_type": "stream",
     "text": [
      "2000\n"
     ]
    }
   ],
   "source": [
    "# It prompts the user to input an integer representing the number of people, converts the input to an integer \n",
    "# using typecasting and then prints the integer value.\n",
    "\n",
    "# Taking input as int\n",
    "# Typecasting to int\n",
    "n = int(input(\"How many people?: \"))\n",
    "print(n)"
   ]
  },
  {
   "cell_type": "markdown",
   "id": "b38099c5-df59-4bbc-aefc-0240df138f78",
   "metadata": {},
   "source": [
    "# Printing Float/Decimal Number in Python"
   ]
  },
  {
   "cell_type": "code",
   "execution_count": 4,
   "id": "d80595e2-0f2e-4863-8540-502f54886cef",
   "metadata": {},
   "outputs": [
    {
     "name": "stdin",
     "output_type": "stream",
     "text": [
      "Price is ?:  50\n"
     ]
    },
    {
     "name": "stdout",
     "output_type": "stream",
     "text": [
      "50.0\n"
     ]
    }
   ],
   "source": [
    "# The code prompts the user to input the price of each rose as a floating-point number,\n",
    "# and converts the input to a float using typecasting and then prints the price.\n",
    "# Taking input as float\n",
    "# Typecasting to float\n",
    "price = float(input(\"Price is ?: \"))\n",
    "print(price)"
   ]
  },
  {
   "cell_type": "markdown",
   "id": "aedcbd48-bddf-445a-817d-cca4c436f0f7",
   "metadata": {},
   "source": [
    "# Find DataType of Input in Python\n",
    "\n"
   ]
  },
  {
   "cell_type": "code",
   "execution_count": 6,
   "id": "bd7a7a64-bff3-4675-91b9-e8e28abb1399",
   "metadata": {},
   "outputs": [
    {
     "name": "stdout",
     "output_type": "stream",
     "text": [
      "<class 'str'>\n",
      "<class 'int'>\n",
      "<class 'float'>\n",
      "<class 'tuple'>\n",
      "<class 'list'>\n",
      "<class 'dict'>\n"
     ]
    }
   ],
   "source": [
    "# In the below code , we are printing the type of variable x. We will determine the type of an object in Python.\n",
    "\n",
    "a = \"Hello Siba Kumar\"\n",
    "b = 10\n",
    "c = 11.22\n",
    "d = (\"Geeks\", \"for\", \"Geeks\")\n",
    "e = [\"Geeks\", \"for\", \"Geeks\"]\n",
    "f = {\"Geeks\": 1, \"for\":2, \"Geeks\":3}\n",
    "\n",
    "print(type(a))\n",
    "print(type(b))\n",
    "print(type(c))\n",
    "print(type(d))\n",
    "print(type(e))\n",
    "print(type(f))"
   ]
  },
  {
   "cell_type": "markdown",
   "id": "448697cf-9dec-48c2-94c2-0cc809baf252",
   "metadata": {},
   "source": [
    "# Output Formatting\n"
   ]
  },
  {
   "cell_type": "code",
   "execution_count": 9,
   "id": "17fb9ed8-fd4d-451a-a198-455465f4a24e",
   "metadata": {},
   "outputs": [
    {
     "name": "stdout",
     "output_type": "stream",
     "text": [
      "Amount: $1500.75\n"
     ]
    }
   ],
   "source": [
    "# Output formatting in Python with various techniques including the format() method, manipulation of the sep and end parameters, \n",
    "# f-strings and the versatile % operator. \n",
    "# These methods enable precise control over how data is displayed, enhancing the readability \n",
    "# and effectiveness of your Python programs.\n",
    "\n",
    "# Example 1: Using Format()\n",
    "amount = 1500.75\n",
    "print(\"Amount: ${:.2f}\".format(amount))"
   ]
  },
  {
   "cell_type": "code",
   "execution_count": 14,
   "id": "5eda7acf-afc2-424d-8242-a1a4b0601b93",
   "metadata": {},
   "outputs": [
    {
     "name": "stdout",
     "output_type": "stream",
     "text": [
      "SKP\n",
      "15-08-2025\n",
      "Siba@Panda\n",
      "Python@VLSI Verification\n"
     ]
    }
   ],
   "source": [
    "# Example 2: Using sep and end parameter\n",
    "\n",
    "# Seprating with Comma\n",
    "print('S', 'K', 'P', sep='')\n",
    "\n",
    "# for formatting a date\n",
    "print('15', '08', '2025', sep='-')\n",
    "\n",
    "# Another example\n",
    "print('Siba', 'Panda', sep='@')\n",
    "\n",
    "# end Parameter with '@'\n",
    "print(\"Python\", end='@')\n",
    "print(\"VLSI Verification\")\n"
   ]
  },
  {
   "cell_type": "code",
   "execution_count": 15,
   "id": "75cd9b2f-ecc3-4636-b53d-29c2a7ee7da6",
   "metadata": {},
   "outputs": [
    {
     "name": "stdout",
     "output_type": "stream",
     "text": [
      "Hello, My name is Siba and I'm 35 years old.\n"
     ]
    }
   ],
   "source": [
    "# Example 3: Using f-string\n",
    "name = 'Siba'\n",
    "age = 35\n",
    "print(f\"Hello, My name is {name} and I'm {age} years old.\")\n"
   ]
  },
  {
   "cell_type": "code",
   "execution_count": 16,
   "id": "9a14b87c-b04b-4cf8-9524-ad57a7da20aa",
   "metadata": {},
   "outputs": [
    {
     "name": "stdin",
     "output_type": "stream",
     "text": [
      "Enter a value:  45\n"
     ]
    },
    {
     "name": "stdout",
     "output_type": "stream",
     "text": [
      "The sum is 50\n"
     ]
    }
   ],
   "source": [
    "# Example 4: Using % Operator\n",
    "# We can use '%' operator. % values are replaced with zero or more value of elements. \n",
    "# The formatting using % is similar to that of ‘printf’ in the C programming language.The formattings are \n",
    "# %d –integer, %f – float, %s – string, %x –hexadecimal ,%o – octal\n",
    "\n",
    "# Taking input from the user\n",
    "num = int(input(\"Enter a value: \"))\n",
    "add = num + 5\n",
    "print(\"The sum is %d\" %add)\n"
   ]
  },
  {
   "cell_type": "code",
   "execution_count": null,
   "id": "48e808f3-2ad0-4e5d-9099-8f6799f43fe3",
   "metadata": {},
   "outputs": [],
   "source": []
  }
 ],
 "metadata": {
  "kernelspec": {
   "display_name": "Python 3",
   "language": "python",
   "name": "python3"
  },
  "language_info": {
   "codemirror_mode": {
    "name": "ipython",
    "version": 3
   },
   "file_extension": ".py",
   "mimetype": "text/x-python",
   "name": "python",
   "nbconvert_exporter": "python",
   "pygments_lexer": "ipython3",
   "version": "3.13.5"
  }
 },
 "nbformat": 4,
 "nbformat_minor": 5
}
