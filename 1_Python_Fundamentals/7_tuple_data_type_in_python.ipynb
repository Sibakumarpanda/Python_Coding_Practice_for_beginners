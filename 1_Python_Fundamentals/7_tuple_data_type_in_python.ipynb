{
 "cells": [
  {
   "cell_type": "markdown",
   "id": "c8bf461a-de76-4072-a390-681ee1b3d043",
   "metadata": {},
   "source": [
    "# Prepared by Siba Kumar Panda,VLSI Verification Engineer\n",
    "# Github Link :https://github.com/Sibakumarpanda¶"
   ]
  },
  {
   "cell_type": "markdown",
   "id": "257df062-394c-4931-9c02-626007223369",
   "metadata": {},
   "source": [
    "# Python Tuple"
   ]
  },
  {
   "cell_type": "code",
   "execution_count": 99,
   "id": "90f10bbc-1b22-4de9-8789-dcccebccb17f",
   "metadata": {},
   "outputs": [
    {
     "name": "stdout",
     "output_type": "stream",
     "text": [
      "(10, 20, 30)\n",
      "<class 'tuple'>\n"
     ]
    }
   ],
   "source": [
    "# Python Tuple is a collection of objects separated by commas. \n",
    "# A tuple is similar to a Python list in terms of indexing, nested objects, and repetition.\n",
    "# but the main difference between both is Python tuple is immutable, unlike the Python list which is mutable.\n",
    "# Note : In case of list, we use square brackets []. But in case Tuple, we use round brackets ()\n",
    "# Example1\n",
    "tup1 = (10, 20, 30) \n",
    "print(tup1)\n",
    "print(type(tup1))"
   ]
  },
  {
   "cell_type": "markdown",
   "id": "05a3ab8b-455a-4f5e-837f-b028246dbfd8",
   "metadata": {},
   "source": [
    "# What is Immutable in Tuples?"
   ]
  },
  {
   "cell_type": "code",
   "execution_count": 102,
   "id": "c5e8e12a-e09d-4cb8-9511-f2216ae3d22a",
   "metadata": {},
   "outputs": [],
   "source": [
    "# tuples are immutable. Some Characteristics areas below:\n",
    "# Like Lists, tuples are ordered and we can access their elements using their index values\n",
    "# We cannot update items to a tuple once it is created. \n",
    "# Tuples cannot be appended or extended.\n",
    "# We cannot remove items from a tuple once it is created. "
   ]
  },
  {
   "cell_type": "code",
   "execution_count": 103,
   "id": "81a7cb15-38b1-4578-be56-f5ec39aa4f31",
   "metadata": {},
   "outputs": [
    {
     "name": "stdout",
     "output_type": "stream",
     "text": [
      "2\n",
      "5\n",
      "<class 'tuple'>\n",
      "(1, 2, 3, 4, 2, 3)\n",
      "<class 'tuple'>\n"
     ]
    },
    {
     "ename": "TypeError",
     "evalue": "'tuple' object does not support item assignment",
     "output_type": "error",
     "traceback": [
      "\u001b[1;31m---------------------------------------------------------------------------\u001b[0m",
      "\u001b[1;31mTypeError\u001b[0m                                 Traceback (most recent call last)",
      "Cell \u001b[1;32mIn[103], line 14\u001b[0m\n\u001b[0;32m     11\u001b[0m \u001b[38;5;28mprint\u001b[39m(\u001b[38;5;28mtype\u001b[39m(tup3))\n\u001b[0;32m     13\u001b[0m \u001b[38;5;66;03m# updating an element, we will get an error\u001b[39;00m\n\u001b[1;32m---> 14\u001b[0m tup3[\u001b[38;5;241m1\u001b[39m] \u001b[38;5;241m=\u001b[39m \u001b[38;5;241m100\u001b[39m\n\u001b[0;32m     15\u001b[0m \u001b[38;5;28mprint\u001b[39m(tup3)\n",
      "\u001b[1;31mTypeError\u001b[0m: 'tuple' object does not support item assignment"
     ]
    }
   ],
   "source": [
    "# Example2:\n",
    "tup2 = (1, 2, 3, 4, 5)\n",
    "# tuples are indexed\n",
    "print(tup2[1])\n",
    "print(tup2[4])\n",
    "print(type(tup2))\n",
    "\n",
    "# tuples contain duplicate elements\n",
    "tup3 = (1, 2, 3, 4, 2, 3)\n",
    "print(tup3)\n",
    "print(type(tup3))\n",
    "\n",
    "# updating an element, we will get an error\n",
    "tup3[1] = 100\n",
    "print(tup3)    #TypeError: 'tuple' object does not support item assignment"
   ]
  },
  {
   "cell_type": "code",
   "execution_count": 104,
   "id": "eb763e23-44d0-44f4-a3ef-11edc6fbe213",
   "metadata": {},
   "outputs": [
    {
     "name": "stdout",
     "output_type": "stream",
     "text": [
      "2\n",
      "5\n",
      "<class 'list'>\n",
      "[1, 2, 3, 4, 2, 3]\n",
      "<class 'list'>\n",
      "[1, 100, 3, 4, 2, 3]\n"
     ]
    }
   ],
   "source": [
    "# Example3: Same above example2 with list\n",
    "tup2 = [1, 2, 3, 4, 5]   # Here tup2 is a list type , because we used () bracket here\n",
    "# tuples are indexed\n",
    "print(tup2[1])\n",
    "print(tup2[4])\n",
    "print(type(tup2))\n",
    "\n",
    "# tup3 which is a lit contains duplicate elements\n",
    "tup3 = [1, 2, 3, 4, 2, 3]  # Here tup3 is a list , because we used () bracket here\n",
    "print(tup3)\n",
    "print(type(tup3))\n",
    "\n",
    "# In list by updating an element, we will not get an error\n",
    "tup3[1] = 100\n",
    "print(tup3)    "
   ]
  },
  {
   "cell_type": "markdown",
   "id": "94e13070-ebe7-441d-b86b-e4be41118faa",
   "metadata": {},
   "source": [
    "# Accessing Values in Python Tuples"
   ]
  },
  {
   "cell_type": "code",
   "execution_count": 105,
   "id": "8116063d-f179-4462-8646-cab568290a49",
   "metadata": {},
   "outputs": [],
   "source": [
    "# Tuples in Python provide two ways by which we can access the elements of a tuple.\n",
    "# Python Access Tuple using a Positive Index\n",
    "# Python Access Tuple using a Negative Index"
   ]
  },
  {
   "cell_type": "code",
   "execution_count": 106,
   "id": "be2249ab-7d86-4f6b-b160-6df4051dde7d",
   "metadata": {},
   "outputs": [
    {
     "name": "stdout",
     "output_type": "stream",
     "text": [
      "Value in tup4[0] =  10\n",
      "Value in tup4[1] =  5\n",
      "Value in tup4[2] =  20\n"
     ]
    }
   ],
   "source": [
    "# Example4: Using square brackets we can get the values from tuples in Python.\n",
    "# using a Positive Index\n",
    "tup4 = (10, 5, 20)\n",
    "print(\"Value in tup4[0] = \", tup4[0])\n",
    "print(\"Value in tup4[1] = \", tup4[1])\n",
    "print(\"Value in tup4[2] = \", tup4[2])"
   ]
  },
  {
   "cell_type": "code",
   "execution_count": 107,
   "id": "c497a548-47ff-4866-a8a1-77f8d3201c2c",
   "metadata": {},
   "outputs": [
    {
     "name": "stdout",
     "output_type": "stream",
     "text": [
      "Value in tup4[-1] =  20\n",
      "Value in tup4[-2] =  5\n",
      "Value in tup4[-3] =  10\n",
      "Value in tup4[-0] =  10\n"
     ]
    }
   ],
   "source": [
    "# Example5: Using square brackets we can get the values from tuples in Python.\n",
    "# using a Negative Index\n",
    "tup4 = (10, 5, 20)\n",
    "print(\"Value in tup4[-1] = \", tup4[-1])\n",
    "print(\"Value in tup4[-2] = \", tup4[-2])\n",
    "print(\"Value in tup4[-3] = \", tup4[-3])\n",
    "print(\"Value in tup4[-0] = \", tup4[-0])  # Same as tup4[0]"
   ]
  },
  {
   "cell_type": "markdown",
   "id": "2dc2a060-9f9c-42b1-88ac-4549a8f03538",
   "metadata": {},
   "source": [
    "# Different Operations Related to Tuples"
   ]
  },
  {
   "cell_type": "code",
   "execution_count": 108,
   "id": "8a2f7d9c-f511-4c10-b788-77ccc5b9d691",
   "metadata": {},
   "outputs": [
    {
     "name": "stdout",
     "output_type": "stream",
     "text": [
      "1 2 3 4 5 <class 'tuple'>\n",
      "Value of tup6[i]= 10\n",
      "Value of tup6[i]= 20\n",
      "Value of tup6[i]= 30\n",
      "Value of tup6[i]= 40\n",
      "Value of tup6[i]= 50\n",
      "Value of tup6[i]= 60\n",
      "Value of tup6[i]= 70\n",
      "Value of tup6[i]= 80\n",
      "Value of tup6[i]= 90\n",
      "Value of tup6[i]= 100\n"
     ]
    }
   ],
   "source": [
    "# Example6-Traversing Items of Python Tuples\n",
    "# Like List Traversal, we can traverse through a tuple using for loop.\n",
    "# Define a tuple\n",
    "tup5 = (1, 2, 3, 4, 5)\n",
    "# Traverse through each item in the tuple\n",
    "for x in tup5:\n",
    "    print(x, end=\" \")\n",
    "\n",
    "print (type(tup5))\n",
    "\n",
    "tup6 = (10,20,30,40,50,60,70,80,90,100)\n",
    "for i in tup6:\n",
    "    print (\"Value of tup6[i]=\",i)\n"
   ]
  },
  {
   "cell_type": "code",
   "execution_count": 109,
   "id": "410c6213-c93d-4ac1-ae32-294a77c49cd4",
   "metadata": {},
   "outputs": [
    {
     "name": "stdout",
     "output_type": "stream",
     "text": [
      "(0, 1, 2, 3)\n",
      "<class 'tuple'>\n",
      "('Siba', 'the', 'Python', 'Lover')\n",
      "<class 'tuple'>\n",
      "(0, 1, 2, 3, 'Siba', 'the', 'Python', 'Lover')\n",
      "(0, 1, 2, 3, 'Siba', 'the', 'Python', 'Lover')\n",
      "<class 'tuple'>\n"
     ]
    }
   ],
   "source": [
    "# Example7-Concatenation of Python Tuples\n",
    "# To Concatenation of Python Tuples, we will use plus operators(+)\n",
    "tup7 = (0, 1, 2, 3)\n",
    "tup8 = ('Siba', 'the', 'Python' , 'Lover')\n",
    "print(tup7)\n",
    "print(type(tup7))\n",
    "print(tup8)\n",
    "print(type(tup8))\n",
    "# Concatenating above two and print directly\n",
    "print(tup7 + tup8)\n",
    "x = tup7 + tup8 # Concatenating two tuple and get assigned to another tuple and then print\n",
    "print (x)\n",
    "print (type(x))\n"
   ]
  },
  {
   "cell_type": "code",
   "execution_count": 110,
   "id": "faf150cf-7c6d-42ca-9453-3bf614bad820",
   "metadata": {},
   "outputs": [
    {
     "name": "stdout",
     "output_type": "stream",
     "text": [
      "(0, 1, 2, 3) ('Siba', 'the', 'Python', 'Lover')\n",
      "((0, 1, 2, 3), ('Siba', 'the', 'Python', 'Lover'))\n"
     ]
    }
   ],
   "source": [
    "# Example8- Nested Tuple : Nesting of Python Tuples\n",
    "# A nested tuple in Python means a tuple inside another tuple.\n",
    "tup7 = (0, 1, 2, 3)\n",
    "tup8 = ('Siba', 'the', 'Python' , 'Lover')\n",
    "print(tup7,tup8)\n",
    "tup9 = (tup7,tup8)\n",
    "print (tup9)"
   ]
  },
  {
   "cell_type": "code",
   "execution_count": 111,
   "id": "bd54ab21-45af-4b81-9a5a-c23dcaba2ff1",
   "metadata": {},
   "outputs": [
    {
     "name": "stdout",
     "output_type": "stream",
     "text": [
      "Executing Example9--------------->\n",
      "('Python', 'Python', 'Python', 'Python', 'Python')\n",
      "<class 'tuple'>\n",
      "Python\n",
      "Python\n",
      "Python\n",
      "Python\n",
      "Python\n",
      "Executing Example10------------>\n",
      "PythonPythonPython\n",
      "<class 'str'>\n",
      "P y t h o n P y t h o n P y t h o n "
     ]
    }
   ],
   "source": [
    "# Example9 -Repetition Python Tuples\n",
    "# We can create a tuple of multiple same elements from a single element in that tuple.\n",
    "print('Executing Example9--------------->')\n",
    "tup10 = ('Python',)*5\n",
    "print(tup10)\n",
    "print(type(tup10))\n",
    "\n",
    "for i in tup10:\n",
    "    print (i)\n",
    "\n",
    "# Example10 -Repetition Python Tuples\n",
    "# We can create a tuple of multiple same elements from a single element in that tuple.\n",
    "print('Executing Example10------------>')\n",
    "tup10 = ('Python')*3\n",
    "print(tup10)\n",
    "print(type(tup10))\n",
    "for i in tup10:\n",
    "    print(i, end=\" \")"
   ]
  },
  {
   "cell_type": "code",
   "execution_count": 112,
   "id": "54ea42f6-d451-4de1-ac9d-957741cddc5a",
   "metadata": {},
   "outputs": [
    {
     "name": "stdout",
     "output_type": "stream",
     "text": [
      "(1, 2, 3)\n",
      "(3, 2, 1, 0)\n",
      "(2, 3)\n",
      "(2,)\n",
      "3\n"
     ]
    }
   ],
   "source": [
    "# Example11- Slicing Tuples in Python\n",
    "# Slicing a Python tuple means dividing a tuple into small tuples using the indexing method. \n",
    "# In below example, we slice the tuple from index 1 to the last element. \n",
    "# In the second print statement, we printed the tuple using reverse indexing. \n",
    "# And in the third print statement, we printed the elements from index 2 to 4\n",
    "# Note-In Python slicing, the end index provided is not included.\n",
    "tup11 = (0 ,1, 2, 3)\n",
    "print(tup11[1:])\n",
    "print(tup11[::-1])\n",
    "print(tup11[2:4])\n",
    "print(tup11[2:3]) # Slicing, the end index provided is not included, so Printing only 2 here\n",
    "print(tup11[3])\n",
    "# print (tup11[4]) # we will get IndexError: tuple index out of range"
   ]
  },
  {
   "cell_type": "code",
   "execution_count": 113,
   "id": "f808dc6e-6e17-4cc8-ae30-432c763839d2",
   "metadata": {},
   "outputs": [
    {
     "name": "stdout",
     "output_type": "stream",
     "text": [
      "(10, 20, 30, 40)\n"
     ]
    },
    {
     "ename": "TypeError",
     "evalue": "'tuple' object does not support item assignment",
     "output_type": "error",
     "traceback": [
      "\u001b[1;31m---------------------------------------------------------------------------\u001b[0m",
      "\u001b[1;31mTypeError\u001b[0m                                 Traceback (most recent call last)",
      "Cell \u001b[1;32mIn[113], line 11\u001b[0m\n\u001b[0;32m      9\u001b[0m tup13 \u001b[38;5;241m=\u001b[39m ( \u001b[38;5;241m10\u001b[39m , \u001b[38;5;241m20\u001b[39m, \u001b[38;5;241m30\u001b[39m, \u001b[38;5;241m40\u001b[39m)\n\u001b[0;32m     10\u001b[0m \u001b[38;5;28mprint\u001b[39m(tup13)\n\u001b[1;32m---> 11\u001b[0m tup13[\u001b[38;5;241m5\u001b[39m] \u001b[38;5;241m=\u001b[39m\u001b[38;5;241m50\u001b[39m  \u001b[38;5;66;03m# TypeError: 'tuple' object does not support item assignment\u001b[39;00m\n\u001b[0;32m     12\u001b[0m \u001b[38;5;28mprint\u001b[39m(tup13)\n",
      "\u001b[1;31mTypeError\u001b[0m: 'tuple' object does not support item assignment"
     ]
    }
   ],
   "source": [
    "# Example12- Deleting a Tuple in Python\n",
    "# In this example, we are deleting a tuple using 'del' keyword. \n",
    "# The output will be in the form of error because after deleting the tuple, it will give a NameError.\n",
    "# Note: Remove individual tuple elements is not possible, but we can delete the whole Tuple using Del keyword.\n",
    "tup12 = ( 0, 1 , 2, 3, 4)\n",
    "del tup12\n",
    "# print(tup12) NameError: name 'tup12' is not defined\n",
    "\n",
    "tup13 = ( 10 , 20, 30, 40)\n",
    "print(tup13)\n",
    "tup13[5] =50  # TypeError: 'tuple' object does not support item assignment\n",
    "print(tup13) "
   ]
  },
  {
   "cell_type": "code",
   "execution_count": 114,
   "id": "4fdcb62c-0305-47dd-bef1-d5e92130769d",
   "metadata": {},
   "outputs": [
    {
     "name": "stdout",
     "output_type": "stream",
     "text": [
      "3\n",
      "<class 'tuple'>\n",
      "2\n",
      "<class 'tuple'>\n"
     ]
    }
   ],
   "source": [
    "# Example13- Finding the Length of a Python Tuple\n",
    "# To find the length of a tuple, we can use Python's len() function and pass the tuple as the parameter.\n",
    "tup14 = ('Siba', 'Kumar', 'Panda')\n",
    "print(len(tup14))\n",
    "print (type(tup14))\n",
    "\n",
    "tup15 = ('Siba', 'Kumar' 'Panda') # Here comma is missed in between Kumar and Panda , so it considered as two element in tup15\n",
    "print(len(tup15))\n",
    "print (type(tup15))"
   ]
  },
  {
   "cell_type": "code",
   "execution_count": 115,
   "id": "ac507664-9456-474e-9998-8315f47f538a",
   "metadata": {},
   "outputs": [
    {
     "name": "stdout",
     "output_type": "stream",
     "text": [
      "('immutable', True, 23, 'Siba', 'Kumar', [1, 2, 3], (1, 2, 3))\n",
      "<class 'tuple'>\n",
      "immutable\n",
      "True\n",
      "23\n",
      "Siba\n",
      "Kumar\n",
      "[1, 2, 3]\n",
      "(1, 2, 3)\n",
      "The element is :  immutable <class 'str'>\n",
      "The element is :  True <class 'bool'>\n",
      "The element is :  23 <class 'int'>\n",
      "The element is :  Siba <class 'str'>\n",
      "The element is :  Kumar <class 'str'>\n",
      "The element is :  [1, 2, 3] <class 'list'>\n",
      "The element is :  (1, 2, 3) <class 'tuple'>\n"
     ]
    }
   ],
   "source": [
    "#Example14- Multiple Data Types With Tuple\n",
    "# Tuples in Python are heterogeneous in nature. \n",
    "# This means tuples support elements with multiple datatypes.\n",
    "tup16 = (\"immutable\", True, 23, \"Siba\",'Kumar', [1,2,3] ,(1,2,3))\n",
    "print(tup16)\n",
    "print(type(tup16))\n",
    "for i in tup16:\n",
    "    print(i)\n",
    "print (\"The element is : \", tup16[0], type(tup16[0])) \n",
    "print (\"The element is : \", tup16[1], type(tup16[1])) \n",
    "print (\"The element is : \", tup16[2], type(tup16[2])) \n",
    "print (\"The element is : \", tup16[3], type(tup16[3])) \n",
    "print (\"The element is : \", tup16[4], type(tup16[4])) \n",
    "print (\"The element is : \", tup16[5], type(tup16[5])) \n",
    "print (\"The element is : \", tup16[6], type(tup16[6])) "
   ]
  },
  {
   "cell_type": "code",
   "execution_count": 116,
   "id": "b7feb7b6-0573-4144-8b35-33ada3a6f43b",
   "metadata": {},
   "outputs": [
    {
     "name": "stdout",
     "output_type": "stream",
     "text": [
      "<class 'list'>\n",
      "(0, 1, 2)\n",
      "<class 'tuple'>\n",
      "***************************\n",
      "<class 'tuple'>\n",
      "[0, 1, 2]\n",
      "<class 'list'>\n"
     ]
    }
   ],
   "source": [
    "# Example15- Converting a List to a Tuple and Tuple to a list\n",
    "# We can convert a list in Python to a tuple by using the tuple() constructor and passing the list as its parameters.\n",
    "# Code for converting a list and a string into a tuple\n",
    "a = [0, 1, 2]  # here a is a list\n",
    "print (type(a))\n",
    "tup = tuple(a)\n",
    "print(tup)\n",
    "print (type(tup))\n",
    "\n",
    "# We can convert a Tuple in Python to a list by using the list() constructor and passing the tuple as its parameters.\n",
    "print(\"***************************\")\n",
    "a = (0, 1, 2)  # here a is a Tuple\n",
    "print (type(a))\n",
    "lis = list(a)\n",
    "print(lis)\n",
    "print (type(lis))"
   ]
  },
  {
   "cell_type": "code",
   "execution_count": 117,
   "id": "790bfc05-3871-4eae-aa44-9eaa70b94957",
   "metadata": {},
   "outputs": [
    {
     "name": "stdout",
     "output_type": "stream",
     "text": [
      "(('SKP',),)\n",
      "((('SKP',),),)\n",
      "(((('SKP',),),),)\n",
      "((((('SKP',),),),),)\n",
      "(((((('SKP',),),),),),)\n"
     ]
    }
   ],
   "source": [
    "# Example16-Tuples in a Loop\n",
    "# We can also create a tuple with a single element in it using loops.\n",
    "\n",
    "tup17 = ('SKP',)\n",
    "\n",
    "# Number of time loop runs\n",
    "n = 5 \n",
    "for i in range(int(n)):\n",
    "    tup17 = (tup17,)\n",
    "    print(tup17)"
   ]
  },
  {
   "cell_type": "markdown",
   "id": "9f812fa9-0238-461c-899f-62acfb7b6dfd",
   "metadata": {},
   "source": [
    "# Different Ways of Creating a Tuple\n"
   ]
  },
  {
   "cell_type": "code",
   "execution_count": 118,
   "id": "0c8634c5-bc8d-4ad9-baa8-7429b8ff6e3d",
   "metadata": {},
   "outputs": [],
   "source": [
    "# The different ways are :\n",
    "# Using round brackets\n",
    "# Without Brackets\n",
    "# Tuple Constructor\n",
    "# Empty Tuple\n",
    "# Single Element Tuple\n",
    "# Using Tuple Packing"
   ]
  },
  {
   "cell_type": "code",
   "execution_count": 119,
   "id": "4f093834-a38d-4627-a749-a55259a11d39",
   "metadata": {},
   "outputs": [
    {
     "name": "stdout",
     "output_type": "stream",
     "text": [
      "('Siba', 'Python')\n",
      "<class 'tuple'>\n",
      "******************\n",
      "(4, 5, 6)\n",
      "<class 'tuple'>\n",
      "******************\n",
      "('Siba', 'Python')\n",
      "<class 'tuple'>\n",
      "******************\n",
      "('Siba',)\n",
      "<class 'tuple'>\n",
      "******************\n",
      "Siba\n",
      "<class 'str'>\n",
      "******************\n",
      "(7, 8, 9)\n",
      "<class 'tuple'>\n",
      "******************\n",
      "('Siba', 'Kumar', 'Panda')\n",
      "<class 'tuple'>\n",
      "******************\n",
      "()\n",
      "<class 'tuple'>\n",
      "******************\n",
      "(50,)\n",
      "<class 'tuple'>\n",
      "******************\n",
      "50\n",
      "<class 'int'>\n",
      "******************\n",
      "(60, 70, 80)\n",
      "<class 'tuple'>\n",
      "******************\n"
     ]
    }
   ],
   "source": [
    "# Example17:\n",
    "\n",
    "# Using round brackets\n",
    "tup1 = (\"Siba\", \"Python\")   \n",
    "print(tup1)\n",
    "print(type(tup1))\n",
    "print(\"******************\")\n",
    "\n",
    "# Creating a tuple without brackets\n",
    "tup2 = 4, 5, 6\n",
    "print(tup2)\n",
    "print(type(tup2))\n",
    "print(\"******************\")\n",
    "\n",
    "tup3 = \"Siba\", \"Python\"\n",
    "print(tup3)\n",
    "print(type(tup3))\n",
    "print(\"******************\")\n",
    "\n",
    "tup4 = \"Siba\", \n",
    "print(tup4)\n",
    "print(type(tup4))\n",
    "print(\"******************\")\n",
    "\n",
    "tup5 = \"Siba\"   # It will be a String , not a Tuple\n",
    "print(tup5)\n",
    "print(type(tup5))\n",
    "print(\"******************\")\n",
    "\n",
    "# Creating a tuple using the tuple() constructor\n",
    "tup6 = tuple([7, 8, 9])\n",
    "print(tup6)\n",
    "print(type(tup6))\n",
    "print(\"******************\")\n",
    "\n",
    "tup7 = tuple([\"Siba\", \"Kumar\", \"Panda\"])\n",
    "print(tup7)\n",
    "print(type(tup7))\n",
    "print(\"******************\")\n",
    "\n",
    "# Creating an empty tuple\n",
    "tup8 = ()\n",
    "print(tup8)\n",
    "print(type(tup8))\n",
    "print(\"******************\")\n",
    "\n",
    "# Creating a single-element tuple\n",
    "tup9 = (50, )         # Comma is important here\n",
    "print(tup9)           # Output: (10,)\n",
    "print(type(tup9))\n",
    "print(\"******************\")\n",
    "\n",
    "# What if we do not use comma\n",
    "tup10 = (50)            # This an integer (not a tuple)\n",
    "print(tup10)  \n",
    "print(type(tup10))\n",
    "print(\"******************\")\n",
    "\n",
    "# Tuple packing\n",
    "a, b, c = 60, 70, 80\n",
    "tup11 = (a, b, c)\n",
    "print(tup11)\n",
    "print(type(tup11))\n",
    "print(\"******************\")\n"
   ]
  },
  {
   "cell_type": "markdown",
   "id": "055120fb-c8f1-40aa-b9f0-dec070da4f33",
   "metadata": {},
   "source": [
    "# Tuple Built in Methods : index()\n"
   ]
  },
  {
   "cell_type": "code",
   "execution_count": 120,
   "id": "1c09f7cd-1a2c-42b7-9664-eb61f8613e3d",
   "metadata": {},
   "outputs": [],
   "source": [
    "# Tuples support only a few methods due to their immutable nature. \n",
    "# The two most commonly used methods are count() and index()\n",
    "# index( )\tFind in the tuple and returns the index of the given value where it's available\n",
    "# count( )\tReturns the frequency of occurrence of a specified value"
   ]
  },
  {
   "cell_type": "code",
   "execution_count": 121,
   "id": "a095abf9-fd7b-4379-9055-e27b25c5836c",
   "metadata": {},
   "outputs": [
    {
     "name": "stdout",
     "output_type": "stream",
     "text": [
      "('Siba', 'Kumar', 'Panda')\n",
      "<class 'tuple'>\n",
      "0\n",
      "2\n",
      "('Siba', 'Kumar', 'Panda', 'Siba', 'Biranchi', 'Siba')\n",
      "<class 'tuple'>\n",
      "0\n",
      "3\n",
      "3\n",
      "0\n"
     ]
    },
    {
     "ename": "ValueError",
     "evalue": "tuple.index(x): x not in tuple",
     "output_type": "error",
     "traceback": [
      "\u001b[1;31m---------------------------------------------------------------------------\u001b[0m",
      "\u001b[1;31mValueError\u001b[0m                                Traceback (most recent call last)",
      "Cell \u001b[1;32mIn[121], line 22\u001b[0m\n\u001b[0;32m     20\u001b[0m \u001b[38;5;28mprint\u001b[39m(tup2\u001b[38;5;241m.\u001b[39mindex(\u001b[38;5;124m\"\u001b[39m\u001b[38;5;124mSiba\u001b[39m\u001b[38;5;124m\"\u001b[39m,\u001b[38;5;241m3\u001b[39m,\u001b[38;5;241m5\u001b[39m))\n\u001b[0;32m     21\u001b[0m \u001b[38;5;28mprint\u001b[39m(tup2\u001b[38;5;241m.\u001b[39mindex(\u001b[38;5;124m\"\u001b[39m\u001b[38;5;124mSiba\u001b[39m\u001b[38;5;124m\"\u001b[39m,\u001b[38;5;241m0\u001b[39m,\u001b[38;5;241m5\u001b[39m))\n\u001b[1;32m---> 22\u001b[0m \u001b[38;5;28mprint\u001b[39m(tup2\u001b[38;5;241m.\u001b[39mindex(\u001b[38;5;124m\"\u001b[39m\u001b[38;5;124mSiba\u001b[39m\u001b[38;5;124m\"\u001b[39m,\u001b[38;5;241m5\u001b[39m,\u001b[38;5;241m5\u001b[39m))\n",
      "\u001b[1;31mValueError\u001b[0m: tuple.index(x): x not in tuple"
     ]
    }
   ],
   "source": [
    "# Example19: Uses of index()  method in Tuple\n",
    "# Syntax of tuple index() method\n",
    "# tuple.index(element, start, end)\n",
    "# Parameters:\n",
    "# element (required): The item to search for.\n",
    "# start (optional): Index to start the search from (default is 0).\n",
    "# end (optional): Index to end the search (exclusive, default is end of list).\n",
    "\n",
    "tup1 = (\"Siba\", \"Kumar\", \"Panda\")\n",
    "print(tup1)\n",
    "print (type(tup1))\n",
    "print(tup1.index(\"Siba\"))\n",
    "print(tup1.index(\"Panda\"))\n",
    "\n",
    "tup2 = (\"Siba\", \"Kumar\", \"Panda\",\"Siba\", \"Biranchi\" , \"Siba\")\n",
    "print(tup2)\n",
    "print (type(tup2))\n",
    "print(tup2.index(\"Siba\"))       # same as print(tup2.index(\"Siba\",0,5))\n",
    "print(tup2.index(\"Siba\",1,5))\n",
    "print(tup2.index(\"Siba\",3,5))\n",
    "print(tup2.index(\"Siba\",0,5))\n",
    "print(tup2.index(\"Siba\",5,5))"
   ]
  },
  {
   "cell_type": "code",
   "execution_count": 122,
   "id": "73ed3c5a-e53c-460b-b45b-ee21d10e3888",
   "metadata": {},
   "outputs": [
    {
     "name": "stdout",
     "output_type": "stream",
     "text": [
      "(10, 20, 30, 40, 50, 40, 60, 40, 70)\n",
      "<class 'tuple'>\n",
      "5\n"
     ]
    }
   ],
   "source": [
    "# Example20: In this example, we are searching for the index of the number 40 within a specific range of the tuple from index 4 to 7 .\n",
    "tup3 = (10, 20, 30, 40, 50, 40, 60, 40, 70)\n",
    "print(tup3)\n",
    "print(type(tup3))\n",
    "res = tup3.index(40, 4, 8)\n",
    "print(res)"
   ]
  },
  {
   "cell_type": "code",
   "execution_count": 123,
   "id": "276caf9f-ab1e-4a98-8103-85b3d8437bbf",
   "metadata": {},
   "outputs": [
    {
     "name": "stdout",
     "output_type": "stream",
     "text": [
      "Not Present\n",
      "*******************\n",
      "('red', 'green', 'blue', 'yellow')\n",
      "3\n"
     ]
    }
   ],
   "source": [
    "# Example21: In this example, we try to find the index of 'yellow' in the tuple and handle the error with a try-except block if it's not found.\n",
    "tup4 = ('red', 'green', 'blue')\n",
    "try:\n",
    "    index = tup4.index('yellow')\n",
    "    print(tup4)\n",
    "    print(index)\n",
    "except ValueError:\n",
    "    print(\"Not Present\")\n",
    "\n",
    "print(\"*******************\")\n",
    "tup5 = ('red', 'green', 'blue' ,'yellow')\n",
    "try:\n",
    "    index = tup5.index('yellow')\n",
    "    print(tup5)\n",
    "    print(index)\n",
    "except ValueError:\n",
    "    print(\"Not Present\")    "
   ]
  },
  {
   "cell_type": "code",
   "execution_count": 124,
   "id": "8647549b-b8fe-4621-8fb0-3044dcae0d81",
   "metadata": {},
   "outputs": [
    {
     "name": "stdout",
     "output_type": "stream",
     "text": [
      "1\n",
      "3\n"
     ]
    }
   ],
   "source": [
    "# Example22: In this example, we are finding the index of the list [\"Bob\", 22] in a tuple of list \n",
    "# and index() will return the position of its first occurrence.\n",
    "tup5 = ([\"Alice\", 21], [\"Bob\", 22], [\"Charlie\", 20], [\"Biranchi\", 24]) # A tuple of lists\n",
    "res1 = tup5.index([\"Bob\", 22])\n",
    "print(res1)\n",
    "res2 = tup5.index([\"Biranchi\", 24])\n",
    "print(res2)"
   ]
  },
  {
   "cell_type": "markdown",
   "id": "cf387ea2-f357-4fbe-bed8-dbd26de45b3e",
   "metadata": {},
   "source": [
    "# Tuple Built in Method : count()"
   ]
  },
  {
   "cell_type": "code",
   "execution_count": 125,
   "id": "a6fe19d9-da78-4c12-a0fd-6b0f6287e927",
   "metadata": {},
   "outputs": [
    {
     "name": "stdout",
     "output_type": "stream",
     "text": [
      "(1, 2, 3, 1, 2, 1, 4)\n",
      "<class 'tuple'>\n",
      "3\n"
     ]
    }
   ],
   "source": [
    "# Example23:The count() method is used to find the number of times a specific element occurs in a tuple. \n",
    "# It is very useful in scenarios where we need to perform frequency analysis on the data.\n",
    "# Syntax :  tuple_name.count(value) \n",
    "# Return Type: it an integer value, which represents the number of times the specified element appears in the tuple.\n",
    "\n",
    "tup6 = (1, 2, 3, 1, 2, 1, 4)\n",
    "print (tup6)\n",
    "print(type(tup6))\n",
    "result = tup6.count(1)\n",
    "print(result)"
   ]
  },
  {
   "cell_type": "code",
   "execution_count": 126,
   "id": "f5512b45-f0e9-4a19-ba9b-697a18d91e3c",
   "metadata": {},
   "outputs": [
    {
     "name": "stdout",
     "output_type": "stream",
     "text": [
      "('immutable', True, 23, 'Siba', 'Kumar', [1, 2, 3], (1, 2, 3), 23, 'Siba', 'Kumar', 1, (1, 2, 3), 1, False)\n",
      "<class 'tuple'>\n",
      "immutable\n",
      "True\n",
      "23\n",
      "Siba\n",
      "Kumar\n",
      "[1, 2, 3]\n",
      "(1, 2, 3)\n",
      "23\n",
      "Siba\n",
      "Kumar\n",
      "1\n",
      "(1, 2, 3)\n",
      "1\n",
      "False\n",
      "The element is :  immutable <class 'str'>\n",
      "The element is :  True <class 'bool'>\n",
      "The element is :  23 <class 'int'>\n",
      "The element is :  Siba <class 'str'>\n",
      "The element is :  Kumar <class 'str'>\n",
      "The element is :  [1, 2, 3] <class 'list'>\n",
      "The element is :  (1, 2, 3) <class 'tuple'>\n",
      "******************************************\n",
      "The Count Number for result1 is :  2\n",
      "The Count Number for result2 is :  2\n",
      "The Count Number for result3 is :  0\n",
      "The Count Number for result4 is :  0\n",
      "The Count Number for result5 is :  3\n",
      "The Count Number for result6 is :  2\n",
      "The Count Number for result7 is :  1\n",
      "The Count Number for result8 is :  2\n"
     ]
    }
   ],
   "source": [
    "# Example24: Tuple Containing Different Datatypes and use count () to observe\n",
    "tup7 = (\"immutable\", True, 23, \"Siba\",'Kumar', [1,2,3] ,(1,2,3),23, \"Siba\" , \"Kumar\", 1, (1,2,3),1,False)\n",
    "print(tup7)\n",
    "print(type(tup7))\n",
    "for i in tup7:\n",
    "    print(i)\n",
    "    \n",
    "print (\"The element is : \", tup7[0], type(tup7[0])) \n",
    "print (\"The element is : \", tup7[1], type(tup7[1])) \n",
    "print (\"The element is : \", tup7[2], type(tup7[2])) \n",
    "print (\"The element is : \", tup7[3], type(tup7[3])) \n",
    "print (\"The element is : \", tup7[4], type(tup7[4])) \n",
    "print (\"The element is : \", tup7[5], type(tup7[5])) \n",
    "print (\"The element is : \", tup7[6], type(tup7[6])) \n",
    "print (\"******************************************\")\n",
    "result1 = tup7.count(\"Siba\")\n",
    "print (\"The Count Number for result1 is : \",result1)\n",
    "\n",
    "result2 = tup7.count(\"Kumar\")\n",
    "print (\"The Count Number for result2 is : \",result2)\n",
    "\n",
    "result3 = tup7.count(\"siba\")  # Here we are counting for siba - where s is small letter , be careful .so result will be zero\n",
    "print (\"The Count Number for result3 is : \",result3)\n",
    "\n",
    "result4 = tup7.count(\"kumar\") # Here we are counting for kumar - where k is small letter , be careful .so result will be zero\n",
    "print (\"The Count Number for result4 is : \",result4)\n",
    "\n",
    "result5 = tup7.count(1)      # Here count result will come as 3 , because there are two number of 1s present and True is present which equivalent to 1\n",
    "print (\"The Count Number for result5 is : \",result5)\n",
    "\n",
    "result6 = tup7.count(23)\n",
    "print (\"The Count Number for result6 is : \",result6)\n",
    "\n",
    "result7 = tup7.count(0)     # Here though 0s are not present but one False is present which equivalent to 0\n",
    "print (\"The Count Number for result7 is : \",result7)\n",
    "\n",
    "result8 = tup7.count((1, 2, 3))\n",
    "print (\"The Count Number for result8 is : \",result8)\n"
   ]
  },
  {
   "cell_type": "code",
   "execution_count": 128,
   "id": "eb66a890-c219-4a8d-848b-67c671a55cd3",
   "metadata": {},
   "outputs": [
    {
     "name": "stdout",
     "output_type": "stream",
     "text": [
      "2\n"
     ]
    }
   ],
   "source": [
    "# Example25: Count occurrence of sub-tuples in a Tuple\n",
    "# The count() method does not search within nested tuple and it will only count occurrences at the top level.\n",
    "tup8 = (1, (2, 3), 1, (2, 3), 1)\n",
    "result8 = tup8.count((2, 3))\n",
    "print(result8)"
   ]
  },
  {
   "cell_type": "code",
   "execution_count": 129,
   "id": "288875aa-6287-408a-a2d9-c5bdf76aef66",
   "metadata": {},
   "outputs": [
    {
     "name": "stdout",
     "output_type": "stream",
     "text": [
      "2\n",
      "2\n"
     ]
    }
   ],
   "source": [
    "# Example26: Counting Word Frequency in a List\n",
    "# This example simulates word analysis in a sentence by counting how often a word appears.\n",
    "# In below example .split() method splits the string into a list of words.\n",
    "# We use count() to check how many times \"python\" and \"is\" appear.\n",
    "s = \"Siba Kumar loves python much so python lovers is Siba\".split()\n",
    "c1 = s.count(\"python\")\n",
    "c2 = s.count(\"Siba\")\n",
    "print(c1)\n",
    "print(c2)"
   ]
  },
  {
   "cell_type": "markdown",
   "id": "5f4d2446-e1d0-4cb7-bf40-09826595d7ee",
   "metadata": {},
   "source": [
    "# List Built in Method: index()"
   ]
  },
  {
   "cell_type": "code",
   "execution_count": 130,
   "id": "0a9923de-271f-4c83-8bdb-d867f8fd53b1",
   "metadata": {},
   "outputs": [
    {
     "name": "stdout",
     "output_type": "stream",
     "text": [
      "['Siba', 'Kumar', 'Panda']\n",
      "<class 'list'>\n",
      "0\n",
      "2\n",
      "**************\n",
      "['Siba', 'Kumar', 'Panda', 'Siba', 'Biranchi', 'Siba']\n",
      "<class 'list'>\n",
      "0\n",
      "3\n",
      "3\n",
      "0\n"
     ]
    },
    {
     "ename": "ValueError",
     "evalue": "'Siba' is not in list",
     "output_type": "error",
     "traceback": [
      "\u001b[1;31m---------------------------------------------------------------------------\u001b[0m",
      "\u001b[1;31mValueError\u001b[0m                                Traceback (most recent call last)",
      "Cell \u001b[1;32mIn[130], line 22\u001b[0m\n\u001b[0;32m     20\u001b[0m \u001b[38;5;28mprint\u001b[39m(lst2\u001b[38;5;241m.\u001b[39mindex(\u001b[38;5;124m\"\u001b[39m\u001b[38;5;124mSiba\u001b[39m\u001b[38;5;124m\"\u001b[39m,\u001b[38;5;241m3\u001b[39m,\u001b[38;5;241m5\u001b[39m))\n\u001b[0;32m     21\u001b[0m \u001b[38;5;28mprint\u001b[39m(lst2\u001b[38;5;241m.\u001b[39mindex(\u001b[38;5;124m\"\u001b[39m\u001b[38;5;124mSiba\u001b[39m\u001b[38;5;124m\"\u001b[39m,\u001b[38;5;241m0\u001b[39m,\u001b[38;5;241m5\u001b[39m))\n\u001b[1;32m---> 22\u001b[0m \u001b[38;5;28mprint\u001b[39m(lst2\u001b[38;5;241m.\u001b[39mindex(\u001b[38;5;124m\"\u001b[39m\u001b[38;5;124mSiba\u001b[39m\u001b[38;5;124m\"\u001b[39m,\u001b[38;5;241m5\u001b[39m,\u001b[38;5;241m5\u001b[39m))\n",
      "\u001b[1;31mValueError\u001b[0m: 'Siba' is not in list"
     ]
    }
   ],
   "source": [
    "# Example27: Uses of index()  method in List\n",
    "# Syntax of list index() method\n",
    "# list.index(element, start, end)\n",
    "# Parameters:\n",
    "# element (required): The item to search for.\n",
    "# start (optional): Index to start the search from (default is 0).\n",
    "# end (optional): Index to end the search (exclusive, default is end of list).\n",
    "\n",
    "lst1 = [\"Siba\", \"Kumar\", \"Panda\"]\n",
    "print(lst1)\n",
    "print (type(lst1))\n",
    "print(lst1.index(\"Siba\"))\n",
    "print(lst1.index(\"Panda\"))\n",
    "print (\"**************\")\n",
    "lst2 = [\"Siba\", \"Kumar\", \"Panda\",\"Siba\", \"Biranchi\" , \"Siba\"]\n",
    "print(lst2)\n",
    "print (type(lst2))\n",
    "print(lst2.index(\"Siba\"))       # same as print(tup2.index(\"Siba\",0,5))\n",
    "print(lst2.index(\"Siba\",1,5))\n",
    "print(lst2.index(\"Siba\",3,5))\n",
    "print(lst2.index(\"Siba\",0,5))\n",
    "print(lst2.index(\"Siba\",5,5))"
   ]
  },
  {
   "cell_type": "code",
   "execution_count": 131,
   "id": "40dbd082-3b24-4026-839c-ff0fb63f603a",
   "metadata": {},
   "outputs": [
    {
     "name": "stdout",
     "output_type": "stream",
     "text": [
      "[10, 20, 30, 40, 50, 40, 60, 40, 70]\n",
      "<class 'list'>\n",
      "5\n"
     ]
    }
   ],
   "source": [
    "# Example28: In this example, we are searching for the index of the number 40 within a specific range of the list from index 4 to 7 .\n",
    "lst3 = [10, 20, 30, 40, 50, 40, 60, 40, 70]\n",
    "print(lst3)\n",
    "print(type(lst3))\n",
    "res = lst3.index(40, 4, 8)\n",
    "print(res)"
   ]
  },
  {
   "cell_type": "code",
   "execution_count": 132,
   "id": "21389b9f-7905-45d0-9058-ada6145a1e74",
   "metadata": {},
   "outputs": [
    {
     "name": "stdout",
     "output_type": "stream",
     "text": [
      "Not Present\n",
      "*******************\n",
      "['red', 'green', 'blue', 'yellow']\n",
      "3\n"
     ]
    }
   ],
   "source": [
    "# Example29: In this example, we try to find the index of 'yellow' in the list and handle the error with a try-except block if it's not found.\n",
    "lst4 = ['red', 'green', 'blue']\n",
    "try:\n",
    "    index = lst4.index('yellow')\n",
    "    print(lst4)\n",
    "    print(index)\n",
    "except ValueError:\n",
    "    print(\"Not Present\")\n",
    "\n",
    "print(\"*******************\")\n",
    "lst5 = ['red', 'green', 'blue' ,'yellow']\n",
    "try:\n",
    "    index = lst5.index('yellow')\n",
    "    print(lst5)\n",
    "    print(index)\n",
    "except ValueError:\n",
    "    print(\"Not Present\")  "
   ]
  },
  {
   "cell_type": "code",
   "execution_count": 133,
   "id": "12fac86f-2629-4e29-a802-fa569c9fe3d5",
   "metadata": {},
   "outputs": [
    {
     "name": "stdout",
     "output_type": "stream",
     "text": [
      "1\n",
      "3\n"
     ]
    }
   ],
   "source": [
    "# Example30: In this example, we are finding the index of the Tuple (\"Bob\", 22) in a list of Tuple \n",
    "# and index() will return the position of its first occurrence.\n",
    "lst5 = [(\"Alice\", 21), (\"Bob\", 22), (\"Charlie\", 20), (\"Biranchi\", 24)] # A List of Tuples\n",
    "res1 = lst5.index((\"Bob\", 22))\n",
    "print(res1)\n",
    "res2 = lst5.index((\"Biranchi\", 24))\n",
    "print(res2)"
   ]
  },
  {
   "cell_type": "markdown",
   "id": "96a4e470-ab4a-4b72-b9ec-ca01eb6223ac",
   "metadata": {},
   "source": [
    "# List Built in Method: count()"
   ]
  },
  {
   "cell_type": "code",
   "execution_count": 134,
   "id": "deccf990-2892-45ed-bac8-9c096e00cc9a",
   "metadata": {},
   "outputs": [
    {
     "name": "stdout",
     "output_type": "stream",
     "text": [
      "[1, 2, 3, 1, 2, 1, 4]\n",
      "<class 'list'>\n",
      "3\n"
     ]
    }
   ],
   "source": [
    "# Example31:The count() method is used to find the number of times a specific element occurs in a list. \n",
    "# It is very useful in scenarios where we need to perform frequency analysis on the data.\n",
    "# Syntax :  list_name.count(value) \n",
    "# Return Type: it an integer value, which represents the number of times the specified element appears in the list.\n",
    "\n",
    "lst6 = [1, 2, 3, 1, 2, 1, 4]\n",
    "print (lst6)\n",
    "print(type(lst6))\n",
    "result = lst6.count(1)\n",
    "print(result)\n"
   ]
  },
  {
   "cell_type": "code",
   "execution_count": 135,
   "id": "e107552a-b47f-4cc9-ab07-663d44072349",
   "metadata": {},
   "outputs": [
    {
     "name": "stdout",
     "output_type": "stream",
     "text": [
      "['immutable', True, 23, 'Siba', 'Kumar', [1, 2, 3], (1, 2, 3), 23, 'Siba', 'Kumar', 1, (1, 2, 3), 1, False]\n",
      "<class 'list'>\n",
      "immutable\n",
      "True\n",
      "23\n",
      "Siba\n",
      "Kumar\n",
      "[1, 2, 3]\n",
      "(1, 2, 3)\n",
      "23\n",
      "Siba\n",
      "Kumar\n",
      "1\n",
      "(1, 2, 3)\n",
      "1\n",
      "False\n",
      "The element is :  immutable <class 'str'>\n",
      "The element is :  True <class 'bool'>\n",
      "The element is :  23 <class 'int'>\n",
      "The element is :  Siba <class 'str'>\n",
      "The element is :  Kumar <class 'str'>\n",
      "The element is :  [1, 2, 3] <class 'list'>\n",
      "The element is :  (1, 2, 3) <class 'tuple'>\n",
      "******************************************\n",
      "The Count Number for result1 is :  2\n",
      "The Count Number for result2 is :  2\n",
      "The Count Number for result3 is :  0\n",
      "The Count Number for result4 is :  0\n",
      "The Count Number for result5 is :  3\n",
      "The Count Number for result6 is :  2\n",
      "The Count Number for result7 is :  1\n",
      "The Count Number for result8 is :  2\n"
     ]
    }
   ],
   "source": [
    "# Example32: Lits Containing Different Datatypes and use count () to observe\n",
    "lst7 = [\"immutable\", True, 23, \"Siba\",'Kumar', [1,2,3] ,(1,2,3),23, \"Siba\" , \"Kumar\", 1, (1,2,3),1,False]\n",
    "print(lst7)\n",
    "print(type(lst7))\n",
    "for i in lst7:\n",
    "    print(i)\n",
    "    \n",
    "print (\"The element is : \", lst7[0], type(lst7[0])) \n",
    "print (\"The element is : \", lst7[1], type(lst7[1])) \n",
    "print (\"The element is : \", lst7[2], type(lst7[2])) \n",
    "print (\"The element is : \", lst7[3], type(lst7[3])) \n",
    "print (\"The element is : \", lst7[4], type(lst7[4])) \n",
    "print (\"The element is : \", lst7[5], type(lst7[5])) \n",
    "print (\"The element is : \", lst7[6], type(lst7[6])) \n",
    "print (\"******************************************\")\n",
    "result1 = lst7.count(\"Siba\")\n",
    "print (\"The Count Number for result1 is : \",result1)\n",
    "\n",
    "result2 = lst7.count(\"Kumar\")\n",
    "print (\"The Count Number for result2 is : \",result2)\n",
    "\n",
    "result3 = lst7.count(\"siba\")  # Here we are counting for siba - where s is small letter , be careful .so result will be zero\n",
    "print (\"The Count Number for result3 is : \",result3)\n",
    "\n",
    "result4 = lst7.count(\"kumar\") # Here we are counting for kumar - where k is small letter , be careful .so result will be zero\n",
    "print (\"The Count Number for result4 is : \",result4)\n",
    "\n",
    "result5 = lst7.count(1)      # Here count result will come as 3 , because there are two number of 1s present and True is present which equivalent to 1\n",
    "print (\"The Count Number for result5 is : \",result5)\n",
    "\n",
    "result6 = lst7.count(23)\n",
    "print (\"The Count Number for result6 is : \",result6)\n",
    "\n",
    "result7 = lst7.count(0)     # Here though 0s are not present but one False is present which equivalent to 0\n",
    "print (\"The Count Number for result7 is : \",result7)\n",
    "\n",
    "result8 = lst7.count((1, 2, 3))\n",
    "print (\"The Count Number for result8 is : \",result8)\n",
    "\n"
   ]
  },
  {
   "cell_type": "code",
   "execution_count": 136,
   "id": "28177939-e733-49b9-ac5d-488cc102461c",
   "metadata": {},
   "outputs": [
    {
     "name": "stdout",
     "output_type": "stream",
     "text": [
      "2\n"
     ]
    }
   ],
   "source": [
    "# Example33: Count occurrence of sub-list in list of Lists\n",
    "# The count() method does not search within nested lists and it will only count occurrences at the top level.\n",
    "lst8 = [1, [2, 3], 1, [2, 3], 1]\n",
    "result8 = lst8.count([2, 3])\n",
    "print(result8)"
   ]
  },
  {
   "cell_type": "code",
   "execution_count": 137,
   "id": "e1217636-6d64-4601-a0ee-f6d9afd6b342",
   "metadata": {},
   "outputs": [
    {
     "name": "stdout",
     "output_type": "stream",
     "text": [
      "2\n",
      "2\n"
     ]
    }
   ],
   "source": [
    "# Example34: Counting Word Frequency in a List\n",
    "# This example simulates word analysis in a sentence by counting how often a word appears.\n",
    "# In below example .split() method splits the string into a list of words.\n",
    "# We use count() to check how many times \"python\" and \"is\" appear.\n",
    "s = \"python is easy to learn and python is powerful\".split()\n",
    "c1 = s.count(\"python\")\n",
    "c2 = s.count(\"is\")\n",
    "print(c1)\n",
    "print(c2)"
   ]
  },
  {
   "cell_type": "code",
   "execution_count": null,
   "id": "124eeb60-c49d-4e75-a4f0-c6bde5d7d985",
   "metadata": {},
   "outputs": [],
   "source": []
  },
  {
   "cell_type": "code",
   "execution_count": null,
   "id": "7e85b816-7e5a-44b1-8573-7b27c5557497",
   "metadata": {},
   "outputs": [],
   "source": []
  }
 ],
 "metadata": {
  "kernelspec": {
   "display_name": "Python 3",
   "language": "python",
   "name": "python3"
  },
  "language_info": {
   "codemirror_mode": {
    "name": "ipython",
    "version": 3
   },
   "file_extension": ".py",
   "mimetype": "text/x-python",
   "name": "python",
   "nbconvert_exporter": "python",
   "pygments_lexer": "ipython3",
   "version": "3.13.5"
  }
 },
 "nbformat": 4,
 "nbformat_minor": 5
}
