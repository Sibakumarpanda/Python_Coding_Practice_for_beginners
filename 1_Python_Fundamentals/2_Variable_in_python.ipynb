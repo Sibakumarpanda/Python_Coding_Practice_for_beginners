{
 "cells": [
  {
   "cell_type": "markdown",
   "id": "33145c83-788c-4977-8aef-8f7d111f7d7f",
   "metadata": {},
   "source": [
    "# Prepared by Siba Kumar Panda,VLSI Verification Engineer\n",
    "# Github Link :https://github.com/Sibakumarpanda"
   ]
  },
  {
   "cell_type": "markdown",
   "id": "e933350a-a284-4421-bc22-e7c40b7d63be",
   "metadata": {},
   "source": [
    "# Python Variables\n",
    "\n"
   ]
  },
  {
   "cell_type": "code",
   "execution_count": 2,
   "id": "8952f3f4-5d52-42c2-8755-915ef939c2ca",
   "metadata": {},
   "outputs": [
    {
     "name": "stdout",
     "output_type": "stream",
     "text": [
      "5\n",
      "Siba\n"
     ]
    }
   ],
   "source": [
    "# In Python, variables are used to store data that can be referenced and manipulated during program execution. \n",
    "# A variable is essentially a name that is assigned to a value. Unlike many other programming languages, \n",
    "# Python variables do not require explicit declaration of type. \n",
    "# The type of the variable is inferred based on the value assigned.\n",
    "# Variables act as placeholders for data. They allow us to store and reuse values in our program.\n",
    "# Example-1 : Variable 'a' stores the integer value 10\n",
    "a = 5\n",
    "# Variable 'name' stores the string \"Siba\"\n",
    "name = \"Siba\"  \n",
    "print(a)\n",
    "print(name)"
   ]
  },
  {
   "cell_type": "markdown",
   "id": "eb62ba7c-b029-4eac-9589-79e5835cbf84",
   "metadata": {},
   "source": [
    "# How to name a variable in python"
   ]
  },
  {
   "cell_type": "code",
   "execution_count": 3,
   "id": "9222f809-7336-4a34-82f7-b59e2b09c80d",
   "metadata": {},
   "outputs": [],
   "source": [
    "# To use variables effectively, we must follow Python’s naming rules:\n",
    "# Variable names can only contain letters, digits and underscores (_).\n",
    "# A variable name cannot start with a digit.\n",
    "# Variable names are case-sensitive (myVar and myvar are different).\n",
    "# Avoid using Python keywords (e.g., if, else, for) as variable names.\n",
    "\n",
    "# Valid are\n",
    "age = 35\n",
    "_colour = \"RED\"\n",
    "total_score = 90"
   ]
  },
  {
   "cell_type": "code",
   "execution_count": 4,
   "id": "53460df5-4c81-43d4-80a6-ecb88b348c5c",
   "metadata": {},
   "outputs": [
    {
     "ename": "SyntaxError",
     "evalue": "invalid decimal literal (4119021571.py, line 2)",
     "output_type": "error",
     "traceback": [
      "\u001b[1;36m  Cell \u001b[1;32mIn[4], line 2\u001b[1;36m\u001b[0m\n\u001b[1;33m    1name = \"Error\"  # Starts with a digit\u001b[0m\n\u001b[1;37m    ^\u001b[0m\n\u001b[1;31mSyntaxError\u001b[0m\u001b[1;31m:\u001b[0m invalid decimal literal\n"
     ]
    }
   ],
   "source": [
    "# Invalid are\n",
    "1name = \"Error\"  # Starts with a digit\n",
    "class = 10       # 'class' is a reserved keyword\n",
    "user-name = \"Doe\"  # Contains a hyphen"
   ]
  },
  {
   "cell_type": "markdown",
   "id": "feadbe87-2322-4dfe-a50e-82789cb2fc67",
   "metadata": {},
   "source": [
    "# Assigning Values to Variables"
   ]
  },
  {
   "cell_type": "code",
   "execution_count": 8,
   "id": "8dcc32f0-bef3-456d-88a2-15d410e31762",
   "metadata": {},
   "outputs": [
    {
     "name": "stdout",
     "output_type": "stream",
     "text": [
      "5\n",
      "3.14\n",
      "Hi\n",
      "Hello\n"
     ]
    }
   ],
   "source": [
    "# Basic Assignment\n",
    "# Variables in Python are assigned values using the = operator.\n",
    "x = 5\n",
    "y = 3.14\n",
    "z = \"Hi\"\n",
    "p = \"Hello\"\n",
    "print (x)\n",
    "print (y)\n",
    "print (z)\n",
    "print (p)"
   ]
  },
  {
   "cell_type": "code",
   "execution_count": 9,
   "id": "33c5e37c-4982-41f3-ab81-4f04e664769b",
   "metadata": {},
   "outputs": [],
   "source": [
    "# Dynamic Typing\n",
    "# Python variables are dynamically typed, meaning the same variable can hold different types of values during execution.\n",
    "x = 10\n",
    "x = \"Now a string\"\n"
   ]
  },
  {
   "cell_type": "code",
   "execution_count": 12,
   "id": "e9a1857b-ceb7-41e9-9b3e-907fb5d6d189",
   "metadata": {},
   "outputs": [
    {
     "name": "stdout",
     "output_type": "stream",
     "text": [
      "500 500 500\n",
      "1 2.5 Python\n"
     ]
    }
   ],
   "source": [
    "# Multiple Assignments\n",
    "# Python allows multiple variables to be assigned values in a single line.\n",
    "# Assigning the Same Value\n",
    "# Python allows assigning the same value to multiple variables in a single line, which can be useful for initializing variables with the same value.\n",
    "a = b = c = 500\n",
    "print(a, b, c)\n",
    "\n",
    "# Assigning Different Values\n",
    "# We can assign different values to multiple variables simultaneously, making the code concise and easier to read.\n",
    "a, b, c = 1, 2.5, \"Python\"\n",
    "print(a, b, c)"
   ]
  },
  {
   "cell_type": "markdown",
   "id": "01604714-70ea-49b7-a08a-7c92c41ed14f",
   "metadata": {},
   "source": [
    " # Type Casting a Variable"
   ]
  },
  {
   "cell_type": "code",
   "execution_count": 14,
   "id": "59f90af7-7c02-45eb-8530-74df40b42a5c",
   "metadata": {},
   "outputs": [],
   "source": [
    "# Type casting refers to the process of converting the value of one data type into another. \n",
    "# Python provides several built-in functions to facilitate casting, including int(), float() and str() among others.\n",
    "# Basic Casting Functions\n",
    "# int() - Converts compatible values to an integer.\n",
    "# float() - Transforms values into floating-point numbers.\n",
    "# str() - Converts any data type into a string."
   ]
  },
  {
   "cell_type": "code",
   "execution_count": 15,
   "id": "55c9463b-a8c4-4509-a29f-9b637052445d",
   "metadata": {},
   "outputs": [
    {
     "name": "stdout",
     "output_type": "stream",
     "text": [
      "10\n",
      "5.0\n",
      "25\n"
     ]
    }
   ],
   "source": [
    "# Example :Casting variables\n",
    "s = \"10\"    # Initially a string\n",
    "n = int(s)  # Cast string to integer\n",
    "\n",
    "cnt = 5\n",
    "f = float(cnt)  # Cast integer to float\n",
    "\n",
    "age = 25\n",
    "s2 = str(age)  # Cast integer to string\n",
    "\n",
    "# Display results\n",
    "print(n)  \n",
    "print(f)  \n",
    "print(s2)"
   ]
  },
  {
   "cell_type": "markdown",
   "id": "aa51fb51-72c1-4a45-bba1-acff1ee5a781",
   "metadata": {},
   "source": [
    " # Getting type of variable"
   ]
  },
  {
   "cell_type": "code",
   "execution_count": 20,
   "id": "12eed3a2-487d-4adb-82c0-313a1e4cf8f0",
   "metadata": {},
   "outputs": [
    {
     "name": "stdout",
     "output_type": "stream",
     "text": [
      "<class 'int'>\n",
      "<class 'float'>\n",
      "<class 'str'>\n",
      "<class 'list'>\n",
      "<class 'dict'>\n",
      "<class 'bool'>\n"
     ]
    }
   ],
   "source": [
    "# In Python, we can determine the type of a variable using the type() function. \n",
    "# This built-in function returns the type of the object passed to it.\n",
    "# Example: \n",
    "# Define variables with different data types\n",
    "a = 42\n",
    "b = 3.14\n",
    "s = \"Hello, World!\"\n",
    "list = [1, 2, 3]\n",
    "dictr = {'key': 'value'}\n",
    "bool = True\n",
    "\n",
    "# Get and print the type of each variable\n",
    "print(type(a))   \n",
    "print(type(b)) \n",
    "print(type(s))   \n",
    "print(type(list))     \n",
    "print(type(dictr))     \n",
    "print(type(bool))"
   ]
  },
  {
   "cell_type": "markdown",
   "id": "6d518b1b-d41c-4abe-b593-e61139ad606d",
   "metadata": {},
   "source": [
    "# Delete a Variable Using del Keyword"
   ]
  },
  {
   "cell_type": "code",
   "execution_count": 22,
   "id": "00447ff9-1d1b-4202-ad73-6182ea371507",
   "metadata": {},
   "outputs": [
    {
     "name": "stdout",
     "output_type": "stream",
     "text": [
      "10\n"
     ]
    }
   ],
   "source": [
    "# Assigning value to variable\n",
    "x = 10\n",
    "print(x) \n",
    "# Removing the variable using del\n",
    "del x\n",
    "# Trying to print x after deletion will raise an error\n",
    "# print(x)  # Uncommenting this line will raise NameError: name 'x' is not defined"
   ]
  },
  {
   "cell_type": "markdown",
   "id": "44f81ac7-daa4-4e6d-b810-223a95251829",
   "metadata": {},
   "source": [
    "# Swapping Two Variables\n"
   ]
  },
  {
   "cell_type": "code",
   "execution_count": 23,
   "id": "d18a8193-51c0-47c7-bb56-5b6a31e2bc3a",
   "metadata": {},
   "outputs": [
    {
     "name": "stdout",
     "output_type": "stream",
     "text": [
      "100 50\n"
     ]
    }
   ],
   "source": [
    "# Using multiple assignments, we can swap the values of two variables without needing a temporary variable.\n",
    "a,b = 50,100\n",
    "a,b = b,a\n",
    "print (a,b)"
   ]
  },
  {
   "cell_type": "markdown",
   "id": "d11e34f8-f00e-4787-a63c-e7c82a9ff8d3",
   "metadata": {},
   "source": [
    "# Counting Characters in a String\n"
   ]
  },
  {
   "cell_type": "code",
   "execution_count": 25,
   "id": "10093d78-3573-4b73-9a24-dc816faefa0e",
   "metadata": {},
   "outputs": [
    {
     "name": "stdout",
     "output_type": "stream",
     "text": [
      "Length of the word: 6\n"
     ]
    }
   ],
   "source": [
    "# Example1\n",
    "word = \"Python\"\n",
    "length = len(word)\n",
    "print(\"Length of the word:\", length)"
   ]
  },
  {
   "cell_type": "code",
   "execution_count": 28,
   "id": "4c9828db-1d2e-4a0d-9962-f341f9f836e1",
   "metadata": {},
   "outputs": [
    {
     "name": "stdout",
     "output_type": "stream",
     "text": [
      "Length of the word: 14\n"
     ]
    }
   ],
   "source": [
    "# Example2\n",
    "word1 = \"Python\"\n",
    "word2 = \"Learning\"\n",
    "word = word1 + word2\n",
    "length = len(word)\n",
    "print(\"Length of the word:\", length)"
   ]
  },
  {
   "cell_type": "markdown",
   "id": "ddf6c886-501d-4702-9373-8aab1dc23084",
   "metadata": {},
   "source": [
    "# Scope of Variable in Python: Local and Global"
   ]
  },
  {
   "cell_type": "code",
   "execution_count": 30,
   "id": "46f524ce-93b8-4a90-b3f4-a57c599fa91f",
   "metadata": {},
   "outputs": [],
   "source": [
    "# The scope of a variable defines where it can be accessed in the program. There are two main types of scope: local and global.\n",
    "# Local Variables:\n",
    "# Defined within a function or block, accessible only inside that scope.\n",
    "# local variables exist only inside the function where they are defined and cannot be used outside it.\n",
    "# Destroyed once the function/block ends.\n",
    "# Temporary, used for short-term data.\n",
    "\n",
    "# Global Variables:\n",
    "# Defined outside functions, accessible throughout the program.\n",
    "# To modify within a function, use the global keyword.\n",
    "# Persist in memory for the program’s duration, useful for shared data."
   ]
  },
  {
   "cell_type": "code",
   "execution_count": 32,
   "id": "e62be8ca-cbe8-4899-ba86-42d1252a44e0",
   "metadata": {},
   "outputs": [
    {
     "name": "stdout",
     "output_type": "stream",
     "text": [
      "Welcome to my Python Jupyter Notebook!!!\n"
     ]
    }
   ],
   "source": [
    "# Local Variable , Example1:\n",
    "# In this example, we are creating and accessing a local variable inside a function.\n",
    "# Here , We define siba() with a local variable msg and print it. \n",
    "# Since msg exists only during the function's execution, it's accessed within the function. Calling sib() displays the message.\n",
    "def siba():\n",
    "    msg = \"Welcome to my Python Jupyter Notebook!!!\"\n",
    "    print(msg)\n",
    "\n",
    "siba()"
   ]
  },
  {
   "cell_type": "code",
   "execution_count": 35,
   "id": "6c2f43a0-42fa-42d7-8749-0363e963c324",
   "metadata": {},
   "outputs": [
    {
     "name": "stdout",
     "output_type": "stream",
     "text": [
      "Inside function: Welcome to my Python Jupyter Notebook!!!\n"
     ]
    },
    {
     "ename": "NameError",
     "evalue": "name 'msg' is not defined",
     "output_type": "error",
     "traceback": [
      "\u001b[1;31m---------------------------------------------------------------------------\u001b[0m",
      "\u001b[1;31mNameError\u001b[0m                                 Traceback (most recent call last)",
      "Cell \u001b[1;32mIn[35], line 9\u001b[0m\n\u001b[0;32m      6\u001b[0m     \u001b[38;5;28mprint\u001b[39m(\u001b[38;5;124m\"\u001b[39m\u001b[38;5;124mInside function:\u001b[39m\u001b[38;5;124m\"\u001b[39m, msg)\n\u001b[0;32m      8\u001b[0m siba()\n\u001b[1;32m----> 9\u001b[0m \u001b[38;5;28mprint\u001b[39m(\u001b[38;5;124m\"\u001b[39m\u001b[38;5;124mOutside function:\u001b[39m\u001b[38;5;124m\"\u001b[39m, msg)\n",
      "\u001b[1;31mNameError\u001b[0m: name 'msg' is not defined"
     ]
    }
   ],
   "source": [
    "# Local Variable , Example2:\n",
    "# In this example, we are creating a local variable inside a function and then trying to access \n",
    "# it outside the function, which causes an error.\n",
    "def siba():\n",
    "    msg = \"Welcome to my Python Jupyter Notebook!!!\"\n",
    "    print(\"Inside function:\", msg)\n",
    "\n",
    "siba()\n",
    "print(\"Outside function:\", msg)"
   ]
  },
  {
   "cell_type": "code",
   "execution_count": 36,
   "id": "e381c784-f94e-4cd4-9d17-5bc824a35c8f",
   "metadata": {},
   "outputs": [
    {
     "name": "stdout",
     "output_type": "stream",
     "text": [
      "Inside function: Python is awesome!\n",
      "Outside function: Python is awesome!\n"
     ]
    }
   ],
   "source": [
    "# Global Variables, Example1:\n",
    "# Global variables are defined outside all functions. \n",
    "# They can be accessed and used in any part of the program, including inside functions.\n",
    "# In this example, we are creating a global variable and then accessing it both inside and outside a function.\n",
    "msg = \"Python is awesome!\"\n",
    "def display():\n",
    "    print(\"Inside function:\", msg)\n",
    "display()\n",
    "\n",
    "print(\"Outside function:\", msg)\n"
   ]
  },
  {
   "cell_type": "code",
   "execution_count": 41,
   "id": "15a1e877-5660-4c70-b999-4eec4238d0b3",
   "metadata": {},
   "outputs": [
    {
     "name": "stdout",
     "output_type": "stream",
     "text": [
      "Inside Function: I love Python\n",
      "Outside Function: I love Python\n"
     ]
    }
   ],
   "source": [
    "# Global Variables, Example2:\n",
    "# In this example, we're creating a global variable and then using it both inside and outside a function.\n",
    "# Here , s is a global variable accessed and printed inside fun(). Both calling fun() and printing s outside show the same global value.\n",
    "# Note: As there are no locals, the value from the globals will be used but make sure both the local and the global variables should have same name.\n",
    "\n",
    "def display_fun():\n",
    "    print(\"Inside Function:\", s)\n",
    "# Global scope\n",
    "s = \"I love Python\"\n",
    "display_fun()\n",
    "print(\"Outside Function:\", s)"
   ]
  },
  {
   "cell_type": "markdown",
   "id": "4868fd32-b3f5-4749-b3ed-9175531c03a2",
   "metadata": {},
   "source": [
    "# Why do we use Local and Global variables in Python?"
   ]
  },
  {
   "cell_type": "code",
   "execution_count": 46,
   "id": "4ca4a121-b779-4285-9e34-034b3003ad86",
   "metadata": {},
   "outputs": [
    {
     "name": "stdout",
     "output_type": "stream",
     "text": [
      "Me too\n",
      "I love Python\n"
     ]
    }
   ],
   "source": [
    "#Example :\n",
    "# If a variable is defined both globally and locally with the same name, the local variable shadows the global \n",
    "# variable inside the function. \n",
    "# Changes to the local variable do not affect the global variable unless you explicitly declare the variable as global.\n",
    "# In below example , Inside fun(), s is a local variable set to \"Me too\" and prints that value. \n",
    "# Outside, the global s remains \"I love Python\", so printing s afterward shows the global value.\n",
    "\n",
    "def display_fun():\n",
    "    s = \"Me too\"\n",
    "    print(s)\n",
    "s = \"I love Python\"\n",
    "display_fun()   \n",
    "print(s)"
   ]
  },
  {
   "cell_type": "markdown",
   "id": "92bd10fa-0a15-4df0-bacc-6a71137407cb",
   "metadata": {},
   "source": [
    "# What happens,if we try to Modify a Global Variable Inside a Function?\n"
   ]
  },
  {
   "cell_type": "code",
   "execution_count": 51,
   "id": "e457dfa6-6450-43d0-9fcc-8b16b30935ca",
   "metadata": {},
   "outputs": [
    {
     "ename": "UnboundLocalError",
     "evalue": "cannot access local variable 's' where it is not associated with a value",
     "output_type": "error",
     "traceback": [
      "\u001b[1;31m---------------------------------------------------------------------------\u001b[0m",
      "\u001b[1;31mUnboundLocalError\u001b[0m                         Traceback (most recent call last)",
      "Cell \u001b[1;32mIn[51], line 8\u001b[0m\n\u001b[0;32m      5\u001b[0m     \u001b[38;5;28mprint\u001b[39m(\u001b[38;5;124m\"\u001b[39m\u001b[38;5;124mInside Function\u001b[39m\u001b[38;5;124m\"\u001b[39m, s)\n\u001b[0;32m      7\u001b[0m s \u001b[38;5;241m=\u001b[39m \u001b[38;5;124m\"\u001b[39m\u001b[38;5;124mI love Python\u001b[39m\u001b[38;5;124m\"\u001b[39m \u001b[38;5;66;03m# Its Global\u001b[39;00m\n\u001b[1;32m----> 8\u001b[0m display_fun()\n\u001b[0;32m      9\u001b[0m \u001b[38;5;28mprint\u001b[39m(s)\n",
      "Cell \u001b[1;32mIn[51], line 4\u001b[0m, in \u001b[0;36mdisplay_fun\u001b[1;34m()\u001b[0m\n\u001b[0;32m      3\u001b[0m \u001b[38;5;28;01mdef\u001b[39;00m\u001b[38;5;250m \u001b[39m\u001b[38;5;21mdisplay_fun\u001b[39m():\n\u001b[1;32m----> 4\u001b[0m     s \u001b[38;5;241m+\u001b[39m\u001b[38;5;241m=\u001b[39m \u001b[38;5;124m'\u001b[39m\u001b[38;5;124mSiba\u001b[39m\u001b[38;5;124m'\u001b[39m\n\u001b[0;32m      5\u001b[0m     \u001b[38;5;28mprint\u001b[39m(\u001b[38;5;124m\"\u001b[39m\u001b[38;5;124mInside Function\u001b[39m\u001b[38;5;124m\"\u001b[39m, s)\n",
      "\u001b[1;31mUnboundLocalError\u001b[0m: cannot access local variable 's' where it is not associated with a value"
     ]
    }
   ],
   "source": [
    "# Attempting to change a global variable inside a function without declaring it as global will cause an error. \n",
    "# Example-1\n",
    "# here display_fun() tries to modify s without declaring it global, so Python treats s as local \n",
    "#but it’s used before assignment, causing an error. Declaring s as global inside fun() fixes this, will see in next example\n",
    "def display_fun():\n",
    "    s += 'Siba'\n",
    "    print(\"Inside Function\", s)\n",
    "\n",
    "s = \"I love Python\" # Its Global\n",
    "display_fun()\n",
    "print(s)"
   ]
  },
  {
   "cell_type": "code",
   "execution_count": 55,
   "id": "8a656935-da23-4f7f-8277-7264c9fbb1ba",
   "metadata": {},
   "outputs": [
    {
     "name": "stdout",
     "output_type": "stream",
     "text": [
      "Python is great!!!Siba\n",
      "Python for VLSI Engineers\n",
      "Python for VLSI Engineers\n"
     ]
    }
   ],
   "source": [
    "# Example-2\n",
    "# To modify a global variable inside a function, you must explicitly tell Python that you want to use the global \n",
    "# version by using the global keyword\n",
    "# In below example , Inside display_fun(), the global keyword lets Python modify the global variable s directly. \n",
    "# The function first appends 'Siba' to \"Python is great!\", then reassigns s to \"Python for VLSI Engineers\".\n",
    "\n",
    "def display_fun():\n",
    "    global s\n",
    "    s += 'Siba'   # Modify the global variable\n",
    "    print(s)\n",
    "    s = \"Python for VLSI Engineers\"\n",
    "    print(s)\n",
    "\n",
    "s = \"Python is great!!!\"\n",
    "display_fun()\n",
    "print(s)"
   ]
  },
  {
   "cell_type": "code",
   "execution_count": 60,
   "id": "8199ac14-4120-43b3-adef-465b408600ed",
   "metadata": {},
   "outputs": [
    {
     "name": "stdout",
     "output_type": "stream",
     "text": [
      "global: 1\n",
      "disp_fun1(): 1\n",
      "global: 1\n",
      "disp_fun2(): 2\n",
      "global: 1\n",
      "disp_fun3(): 3\n",
      "global: 3\n"
     ]
    }
   ],
   "source": [
    "#Example-3\n",
    "# This example demonstrates how Python handles global and local variables with the same name and how the global keyword affects their behavior.\n",
    "\n",
    "a = 1  # Global variable\n",
    "\n",
    "def disp_fun1():\n",
    "    print('disp_fun1():', a)  # Uses global a\n",
    "\n",
    "def disp_fun2():\n",
    "    a = 2  # Local variable shadows global\n",
    "    print('disp_fun2():', a)\n",
    "\n",
    "def disp_fun3():\n",
    "    global a\n",
    "    a = 3  # Modifies global a\n",
    "    print('disp_fun3():', a)\n",
    "\n",
    "print('global:', a)  \n",
    "disp_fun1()\n",
    "\n",
    "print('global:', a) \n",
    "disp_fun2()\n",
    "\n",
    "print('global:', a)  \n",
    "disp_fun3() \n",
    "\n",
    "print('global:', a)\n",
    "\n",
    "# Observation in this example:\n",
    "# disp_fun1() prints the global a without changing it.\n",
    "# disp_fun2() creates a local a that shadows the global one, leaving the global a unchanged.\n",
    "# disp_fun3() uses global to modify the global a.\n",
    "# Only disp_fun3() changes the global variable, disp_fun1() and disp_fun2() do not."
   ]
  },
  {
   "cell_type": "code",
   "execution_count": null,
   "id": "1041b516-044a-4569-89a2-092dad9fa13e",
   "metadata": {},
   "outputs": [],
   "source": []
  }
 ],
 "metadata": {
  "kernelspec": {
   "display_name": "Python 3",
   "language": "python",
   "name": "python3"
  },
  "language_info": {
   "codemirror_mode": {
    "name": "ipython",
    "version": 3
   },
   "file_extension": ".py",
   "mimetype": "text/x-python",
   "name": "python",
   "nbconvert_exporter": "python",
   "pygments_lexer": "ipython3",
   "version": "3.13.5"
  }
 },
 "nbformat": 4,
 "nbformat_minor": 5
}
