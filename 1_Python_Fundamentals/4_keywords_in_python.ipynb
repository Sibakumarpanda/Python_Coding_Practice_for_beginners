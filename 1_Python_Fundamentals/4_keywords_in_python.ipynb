{
 "cells": [
  {
   "cell_type": "markdown",
   "id": "d0f811fc-91b5-482c-aa7b-f815442eda96",
   "metadata": {},
   "source": [
    "# Prepared by Siba Kumar Panda,VLSI Verification Engineer\n",
    "# Github Link :https://github.com/Sibakumarpanda¶"
   ]
  },
  {
   "cell_type": "markdown",
   "id": "cad4c686-adc0-4a9f-ad07-aa2f6fb3b447",
   "metadata": {},
   "source": [
    "# Python Keywords"
   ]
  },
  {
   "cell_type": "code",
   "execution_count": 2,
   "id": "e5224a68-e56e-4515-811e-d3676611d64b",
   "metadata": {},
   "outputs": [],
   "source": [
    "# Keywords in Python are reserved words that have special meanings and serve specific purposes in the language syntax. \n",
    "# Python keywords cannot be used as the names of variables, functions, and classes or any other identifier.\n"
   ]
  },
  {
   "cell_type": "code",
   "execution_count": 5,
   "id": "5e2b062f-a41f-403f-a6f3-6cb7198e82d3",
   "metadata": {},
   "outputs": [
    {
     "name": "stdout",
     "output_type": "stream",
     "text": [
      "The list of keywords is : \n",
      "['False', 'None', 'True', 'and', 'as', 'assert', 'async', 'await', 'break', 'class', 'continue', 'def', 'del', 'elif', 'else', 'except', 'finally', 'for', 'from', 'global', 'if', 'import', 'in', 'is', 'lambda', 'nonlocal', 'not', 'or', 'pass', 'raise', 'return', 'try', 'while', 'with', 'yield']\n"
     ]
    },
    {
     "data": {
      "text/plain": [
       "35"
      ]
     },
     "execution_count": 5,
     "metadata": {},
     "output_type": "execute_result"
    }
   ],
   "source": [
    "# Getting List of all Python keywords\n",
    "# We can also get all the keyword names using the below code\n",
    "\n",
    "import keyword\n",
    "# printing all keywords at once using \"kwlist()\"\n",
    "print(\"The list of keywords is : \")\n",
    "print(keyword.kwlist)\n",
    "len (keyword.kwlist) # It will show how many keywords Python contains -35"
   ]
  },
  {
   "cell_type": "markdown",
   "id": "a872a005-b864-42ca-8b56-f6de5b7c1e2e",
   "metadata": {},
   "source": [
    "# What Happens if We Use Keywords as Variable Names ?\n"
   ]
  },
  {
   "cell_type": "code",
   "execution_count": 6,
   "id": "78b7d4ee-772a-4e17-885c-4676c08530e4",
   "metadata": {},
   "outputs": [
    {
     "ename": "SyntaxError",
     "evalue": "invalid syntax (2599733838.py, line 3)",
     "output_type": "error",
     "traceback": [
      "\u001b[1;36m  Cell \u001b[1;32mIn[6], line 3\u001b[1;36m\u001b[0m\n\u001b[1;33m    for = 10\u001b[0m\n\u001b[1;37m        ^\u001b[0m\n\u001b[1;31mSyntaxError\u001b[0m\u001b[1;31m:\u001b[0m invalid syntax\n"
     ]
    }
   ],
   "source": [
    "# In Python, keywords are reserved words that have special meanings and cannot be used as variable names.\n",
    "# If you attempt to use a keyword as a variable, Python will raise a SyntaxError. Let's look at an example\n",
    "for = 10 \n",
    "print(for)"
   ]
  },
  {
   "cell_type": "markdown",
   "id": "3cec9246-4615-49ea-90e1-7b5dc258e477",
   "metadata": {},
   "source": [
    " # Various Category of Keywords"
   ]
  },
  {
   "cell_type": "code",
   "execution_count": 8,
   "id": "47f0b3aa-f5dc-42d4-b615-401c26338fc4",
   "metadata": {},
   "outputs": [],
   "source": [
    "# Value Keywords          True, False, None\n",
    "# Operator Keywords\t      and, or, not, is, in\n",
    "# Control Flow Keywords   if, else, elif, for, while, break, continue, pass, try, except, finally, raise, assert\n",
    "# Function and Class\t  def, return, lambda, yield, class\n",
    "# Context Management\t  with, as\n",
    "# Import and Module\t      import, from\n",
    "# Scope and Namespace\t  global, nonlocal\n",
    "# Async Programming\t      async, await"
   ]
  },
  {
   "cell_type": "code",
   "execution_count": null,
   "id": "3ad726bb-755c-4815-b929-dd60f7d45c5d",
   "metadata": {},
   "outputs": [],
   "source": []
  }
 ],
 "metadata": {
  "kernelspec": {
   "display_name": "Python 3",
   "language": "python",
   "name": "python3"
  },
  "language_info": {
   "codemirror_mode": {
    "name": "ipython",
    "version": 3
   },
   "file_extension": ".py",
   "mimetype": "text/x-python",
   "name": "python",
   "nbconvert_exporter": "python",
   "pygments_lexer": "ipython3",
   "version": "3.13.5"
  }
 },
 "nbformat": 4,
 "nbformat_minor": 5
}
