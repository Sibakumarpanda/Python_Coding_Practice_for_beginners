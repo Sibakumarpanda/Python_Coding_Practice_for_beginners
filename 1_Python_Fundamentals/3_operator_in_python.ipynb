{
 "cells": [
  {
   "cell_type": "markdown",
   "id": "63d75463-dd89-4f69-b29a-e57df8e3be73",
   "metadata": {},
   "source": [
    "# Prepared by Siba Kumar Panda,VLSI Verification Engineer\n",
    "# Github Link :https://github.com/Sibakumarpanda"
   ]
  },
  {
   "cell_type": "markdown",
   "id": "3cdc55b4-3ffb-4f43-bd20-c84f1417819f",
   "metadata": {},
   "source": [
    "# Python Operators"
   ]
  },
  {
   "cell_type": "code",
   "execution_count": 1,
   "id": "3db459be-9555-4b2d-a3d9-a2de4632611c",
   "metadata": {},
   "outputs": [],
   "source": [
    "# Types of Operators\n",
    "# 1. Arithmetic Operator\n",
    "# 2. Relational/Comparision Operator\n",
    "# 3. Logical Operator\n",
    "# 4. Bitwise Operator\n",
    "# 5. Assignment Operator\n"
   ]
  },
  {
   "cell_type": "code",
   "execution_count": 3,
   "id": "8dcf353f-1a26-4dac-ac2d-d3d71add90d6",
   "metadata": {},
   "outputs": [
    {
     "name": "stdout",
     "output_type": "stream",
     "text": [
      "Addition: 19\n",
      "Subtraction: 11\n",
      "Multiplication: 60\n",
      "Division: 3.75\n",
      "Floor Division: 3\n",
      "Modulus: 3\n",
      "Exponentiation: 50625\n"
     ]
    }
   ],
   "source": [
    "# Arithmetic Operators in Python\n",
    "# Python Arithmetic operators are used to perform basic mathematical operations like addition, subtraction, multiplication and division.\n",
    "# In Python 3.x the result of division is a floating-point while in Python 2.x division of 2 integers was an integer. \n",
    "# To obtain an integer result in Python 3.x floored (// integer) is used.\n",
    "# Example1:\n",
    "# Variables\n",
    "a = 15\n",
    "b = 4\n",
    "\n",
    "# Addition\n",
    "print(\"Addition:\", a + b)  \n",
    "\n",
    "# Subtraction\n",
    "print(\"Subtraction:\", a - b) \n",
    "\n",
    "# Multiplication\n",
    "print(\"Multiplication:\", a * b)  \n",
    "\n",
    "# Division\n",
    "print(\"Division:\", a / b) \n",
    "\n",
    "# Floor Division\n",
    "print(\"Floor Division:\", a // b)  \n",
    "\n",
    "# Modulus\n",
    "print(\"Modulus:\", a % b) \n",
    "\n",
    "# Exponentiation\n",
    "print(\"Exponentiation:\", a ** b)"
   ]
  },
  {
   "cell_type": "code",
   "execution_count": 4,
   "id": "d09c6479-bf09-423e-9b68-7699ef754041",
   "metadata": {},
   "outputs": [
    {
     "name": "stdout",
     "output_type": "stream",
     "text": [
      "False\n",
      "True\n",
      "False\n",
      "True\n",
      "False\n",
      "True\n"
     ]
    }
   ],
   "source": [
    "# Relational Operators in Python\n",
    "# In Python Comparison/Relational operators compares the values. \n",
    "# It either returns True or False according to the condition.\n",
    "a = 13\n",
    "b = 33\n",
    "\n",
    "print(a > b)\n",
    "print(a < b)\n",
    "print(a == b)\n",
    "print(a != b)\n",
    "print(a >= b)\n",
    "print(a <= b)"
   ]
  },
  {
   "cell_type": "code",
   "execution_count": 5,
   "id": "f80a88a9-45f3-4e11-a483-6409cfa489f5",
   "metadata": {},
   "outputs": [
    {
     "name": "stdout",
     "output_type": "stream",
     "text": [
      "False\n",
      "True\n",
      "False\n"
     ]
    }
   ],
   "source": [
    "# Logical Operators in Python\n",
    "# Python Logical operators perform Logical AND, Logical OR and Logical NOT operations. \n",
    "# It is used to combine conditional statements.\n",
    "# The precedence of Logical Operators in Python is as follows:\n",
    "# Logical not\n",
    "# logical and\n",
    "# logical or\n",
    "# Example1\n",
    "a = True\n",
    "b = False\n",
    "print(a and b)\n",
    "print(a or b)\n",
    "print(not a)"
   ]
  },
  {
   "cell_type": "code",
   "execution_count": 6,
   "id": "6d1eb746-2e4a-4f85-ba2f-80c3d3817c60",
   "metadata": {},
   "outputs": [
    {
     "name": "stdout",
     "output_type": "stream",
     "text": [
      "0\n",
      "1\n",
      "False\n"
     ]
    }
   ],
   "source": [
    "# Example2\n",
    "a = 1\n",
    "b = 0\n",
    "print(a and b)\n",
    "print(a or b)\n",
    "print(not a)"
   ]
  },
  {
   "cell_type": "code",
   "execution_count": 9,
   "id": "2f161237-2d6b-4852-a98f-d1797f3ba774",
   "metadata": {},
   "outputs": [
    {
     "name": "stdout",
     "output_type": "stream",
     "text": [
      "False\n",
      "True\n",
      "False\n"
     ]
    }
   ],
   "source": [
    "# Example3\n",
    "print(True and False)\n",
    "print(True or False)\n",
    "print(not True)"
   ]
  },
  {
   "cell_type": "code",
   "execution_count": 10,
   "id": "6696fd00-fd87-4428-a039-54475d52b839",
   "metadata": {},
   "outputs": [
    {
     "name": "stdout",
     "output_type": "stream",
     "text": [
      "0\n",
      "14\n",
      "-11\n",
      "14\n",
      "2\n",
      "40\n"
     ]
    }
   ],
   "source": [
    "# Bitwise Operators in Python\n",
    "# Python Bitwise operators act on bits and perform bit-by-bit operations. These are used to operate on binary numbers.\n",
    "# Bitwise Operators in Python are as follows:\n",
    "# Bitwise NOT\n",
    "# Bitwise Shift\n",
    "# Bitwise AND\n",
    "# Bitwise XOR\n",
    "# Bitwise OR\n",
    "\n",
    "# Example1\n",
    "a = 10\n",
    "b = 4\n",
    "print(a & b)\n",
    "print(a | b)\n",
    "print(~a)\n",
    "print(a ^ b)\n",
    "print(a >> 2)\n",
    "print(a << 2)"
   ]
  },
  {
   "cell_type": "code",
   "execution_count": 12,
   "id": "b4c330ad-af33-4a4b-bc30-6b00c4c431a7",
   "metadata": {},
   "outputs": [
    {
     "name": "stdout",
     "output_type": "stream",
     "text": [
      "10\n",
      "20\n",
      "10\n",
      "100\n",
      "102400\n"
     ]
    }
   ],
   "source": [
    "# Assignment Operators in Python\n",
    "# Python Assignment operators are used to assign values to the variables. \n",
    "# This operator is used to assign the value of the right side of the expression to the left side operand.\n",
    "# Example1\n",
    "a = 10\n",
    "b = a\n",
    "print(b) # 10\n",
    "\n",
    "b += a   # b=b+a ,20\n",
    "print(b)\n",
    "\n",
    "b -= a   # b=b-a ,10\n",
    "print(b)\n",
    "\n",
    "b *= a   # b=b*a ,100\n",
    "print(b)\n",
    "\n",
    "b <<= a\n",
    "print(b)\n",
    "\n",
    "\n",
    "\n"
   ]
  },
  {
   "cell_type": "code",
   "execution_count": 13,
   "id": "ce5a8ce0-b991-4c07-b8a2-ebd6649077fc",
   "metadata": {},
   "outputs": [
    {
     "name": "stdout",
     "output_type": "stream",
     "text": [
      "True\n",
      "True\n"
     ]
    }
   ],
   "source": [
    "# Identity Operators in Python\n",
    "# In Python, is and is not are the identity operators both are used to check if two values are located on the same part of the memory. \n",
    "# Two variables that are equal do not imply that they are identical. \n",
    "# is          True if the operands are identical \n",
    "# is not      True if the operands are not identical \n",
    "# Example1\n",
    "a = 10\n",
    "b = 20\n",
    "c = a\n",
    "\n",
    "print(a is not b)\n",
    "print(a is c)"
   ]
  },
  {
   "cell_type": "code",
   "execution_count": 14,
   "id": "09b1364e-f6fe-46f5-9b5e-a5f2f442d52e",
   "metadata": {},
   "outputs": [
    {
     "name": "stdout",
     "output_type": "stream",
     "text": [
      "x is NOT present in given list\n",
      "y is present in given list\n"
     ]
    }
   ],
   "source": [
    "# Membership Operators in Python\n",
    "# In Python, in and not in are the membership operators that are used to test whether a value or variable is in a sequence.\n",
    "# in            True if value is found in the sequence\n",
    "# not in        True if value is not found in the sequence\n",
    "# Example1\n",
    "x = 24\n",
    "y = 20\n",
    "list = [10, 20, 30, 40, 50]\n",
    "\n",
    "if (x not in list):\n",
    "    print(\"x is NOT present in given list\")\n",
    "else:\n",
    "    print(\"x is present in given list\")\n",
    "\n",
    "if (y in list):\n",
    "    print(\"y is present in given list\")\n",
    "else:\n",
    "    print(\"y is NOT present in given list\")"
   ]
  },
  {
   "cell_type": "code",
   "execution_count": 15,
   "id": "1aee4209-a9d7-4ff8-99af-0f2fccce9dd7",
   "metadata": {},
   "outputs": [
    {
     "name": "stdout",
     "output_type": "stream",
     "text": [
      "10\n"
     ]
    }
   ],
   "source": [
    "# Ternary Operator in Python\n",
    "# In Python, Ternary operators also known as conditional expressions are operators that evaluate something based on a condition \n",
    "# being true or false. It was added to Python in version 2.5. \n",
    "# It simply allows testing a condition in a single line replacing the multiline if-else making the code compact.\n",
    "# Syntax :  [on_true] if [expression] else [on_false] \n",
    "# Example1\n",
    "\n",
    "a, b = 10, 20\n",
    "min = a if a < b else b\n",
    "print(min)"
   ]
  },
  {
   "cell_type": "code",
   "execution_count": 18,
   "id": "cdd221ad-2594-4850-bb48-5ff70f5ab49c",
   "metadata": {},
   "outputs": [
    {
     "name": "stdout",
     "output_type": "stream",
     "text": [
      "610\n",
      "Welcome to My Python Learning Series !!! \n"
     ]
    }
   ],
   "source": [
    "# Operator Precedence in Python\n",
    "# This is used in an expression with more than one operator with different precedence to determine \n",
    "# which operation to perform first.\n",
    "# Example1\n",
    "expr = 10 + 20 * 30\n",
    "print(expr)\n",
    "\n",
    "name = \"Siba\"\n",
    "age = 0\n",
    "if name == \"Siba\" or name == \"Biranchi\" and age >= 35:\n",
    "    print(\"Welcome to My Python Learning Series !!! \")\n",
    "else:\n",
    "    print(\"Good Bye!!!\")"
   ]
  },
  {
   "cell_type": "code",
   "execution_count": 19,
   "id": "f129306e-f69e-4363-8cde-ab0c44f98c69",
   "metadata": {},
   "outputs": [
    {
     "name": "stdout",
     "output_type": "stream",
     "text": [
      "100.0\n",
      "6\n",
      "0\n",
      "512\n"
     ]
    }
   ],
   "source": [
    "# Operator Associativity in Python\n",
    "# If an expression contains two or more operators with the same precedence then Operator Associativity is used to determine.\n",
    "# It can either be Left to Right or from Right to Left.\n",
    "# Example1\n",
    "print(100 / 10 * 10)\n",
    "print(5 - 2 + 3)\n",
    "print(5 - (2 + 3))\n",
    "print(2 ** 3 ** 2)"
   ]
  },
  {
   "cell_type": "code",
   "execution_count": null,
   "id": "0cf51e8f-7054-4631-8202-a7f187b1bfbd",
   "metadata": {},
   "outputs": [],
   "source": []
  }
 ],
 "metadata": {
  "kernelspec": {
   "display_name": "Python 3",
   "language": "python",
   "name": "python3"
  },
  "language_info": {
   "codemirror_mode": {
    "name": "ipython",
    "version": 3
   },
   "file_extension": ".py",
   "mimetype": "text/x-python",
   "name": "python",
   "nbconvert_exporter": "python",
   "pygments_lexer": "ipython3",
   "version": "3.13.5"
  }
 },
 "nbformat": 4,
 "nbformat_minor": 5
}
